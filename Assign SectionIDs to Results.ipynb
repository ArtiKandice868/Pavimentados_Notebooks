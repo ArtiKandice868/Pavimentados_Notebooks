{
 "cells": [
  {
   "cell_type": "code",
   "execution_count": 1,
   "metadata": {},
   "outputs": [
    {
     "name": "stderr",
     "output_type": "stream",
     "text": [
      "C:\\Users\\artir\\Miniconda3\\envs\\geo_env\\lib\\site-packages\\geopandas\\_compat.py:112: UserWarning: The Shapely GEOS version (3.11.1-CAPI-1.17.1) is incompatible with the GEOS version PyGEOS was compiled with (3.10.3-CAPI-1.16.1). Conversions between both will be slow.\n",
      "  warnings.warn(\n"
     ]
    }
   ],
   "source": [
    "import geopandas as gpd\n",
    "import pandas as pd\n",
    "from shapely.geometry import Point\n",
    "from shapely.ops import linemerge, Polygon\n",
    "from shapely.wkt import loads\n",
    "import matplotlib.pyplot as plt\n",
    "import plotly.express as px"
   ]
  },
  {
   "cell_type": "code",
   "execution_count": 26,
   "metadata": {},
   "outputs": [],
   "source": [
    "pd.set_option('display.max_rows', None)"
   ]
  },
  {
   "cell_type": "code",
   "execution_count": 27,
   "metadata": {},
   "outputs": [
    {
     "data": {
      "text/html": [
       "<div>\n",
       "<style scoped>\n",
       "    .dataframe tbody tr th:only-of-type {\n",
       "        vertical-align: middle;\n",
       "    }\n",
       "\n",
       "    .dataframe tbody tr th {\n",
       "        vertical-align: top;\n",
       "    }\n",
       "\n",
       "    .dataframe thead th {\n",
       "        text-align: right;\n",
       "    }\n",
       "</style>\n",
       "<table border=\"1\" class=\"dataframe\">\n",
       "  <thead>\n",
       "    <tr style=\"text-align: right;\">\n",
       "      <th></th>\n",
       "      <th>name</th>\n",
       "      <th>Section_ID</th>\n",
       "      <th>U/R</th>\n",
       "      <th>parish</th>\n",
       "      <th>length</th>\n",
       "      <th>geometry</th>\n",
       "    </tr>\n",
       "  </thead>\n",
       "  <tbody>\n",
       "    <tr>\n",
       "      <th>0</th>\n",
       "      <td>Achterdam</td>\n",
       "      <td>Adam/001/Lash-Wtrl</td>\n",
       "      <td>urban</td>\n",
       "      <td>Nickerie</td>\n",
       "      <td>1192.469808</td>\n",
       "      <td>LINESTRING (-56.99713 5.93893, -56.99634 5.938...</td>\n",
       "    </tr>\n",
       "    <tr>\n",
       "      <th>1</th>\n",
       "      <td>Anamoestraat</td>\n",
       "      <td>Anmo/001/Plto-JoIs</td>\n",
       "      <td>urban</td>\n",
       "      <td>Paramaribo</td>\n",
       "      <td>1349.186168</td>\n",
       "      <td>LINESTRING (-55.14789 5.84572, -55.14761 5.846...</td>\n",
       "    </tr>\n",
       "    <tr>\n",
       "      <th>2</th>\n",
       "      <td>Anamoestraat</td>\n",
       "      <td>Anmo/002/JoIs-Klne</td>\n",
       "      <td>urban</td>\n",
       "      <td>Paramaribo</td>\n",
       "      <td>1517.271849</td>\n",
       "      <td>LINESTRING (-55.14183 5.85617, -55.14178 5.856...</td>\n",
       "    </tr>\n",
       "    <tr>\n",
       "      <th>3</th>\n",
       "      <td>Anton Dragtenweg</td>\n",
       "      <td>AnDr/001/Mhny-MrCu</td>\n",
       "      <td>urban</td>\n",
       "      <td>Paramaribo</td>\n",
       "      <td>1906.095615</td>\n",
       "      <td>LINESTRING (-55.13949 5.83163, -55.13934 5.831...</td>\n",
       "    </tr>\n",
       "    <tr>\n",
       "      <th>4</th>\n",
       "      <td>Anton Dragtenweg</td>\n",
       "      <td>AnDr/002/MrCu-Boni</td>\n",
       "      <td>urban</td>\n",
       "      <td>Paramaribo</td>\n",
       "      <td>1543.048599</td>\n",
       "      <td>LINESTRING (-55.12335 5.83721, -55.12329 5.837...</td>\n",
       "    </tr>\n",
       "  </tbody>\n",
       "</table>\n",
       "</div>"
      ],
      "text/plain": [
       "               name          Section_ID    U/R      parish       length  \\\n",
       "0         Achterdam  Adam/001/Lash-Wtrl  urban    Nickerie  1192.469808   \n",
       "1      Anamoestraat  Anmo/001/Plto-JoIs  urban  Paramaribo  1349.186168   \n",
       "2      Anamoestraat  Anmo/002/JoIs-Klne  urban  Paramaribo  1517.271849   \n",
       "3  Anton Dragtenweg  AnDr/001/Mhny-MrCu  urban  Paramaribo  1906.095615   \n",
       "4  Anton Dragtenweg  AnDr/002/MrCu-Boni  urban  Paramaribo  1543.048599   \n",
       "\n",
       "                                            geometry  \n",
       "0  LINESTRING (-56.99713 5.93893, -56.99634 5.938...  \n",
       "1  LINESTRING (-55.14789 5.84572, -55.14761 5.846...  \n",
       "2  LINESTRING (-55.14183 5.85617, -55.14178 5.856...  \n",
       "3  LINESTRING (-55.13949 5.83163, -55.13934 5.831...  \n",
       "4  LINESTRING (-55.12335 5.83721, -55.12329 5.837...  "
      ]
     },
     "execution_count": 27,
     "metadata": {},
     "output_type": "execute_result"
    }
   ],
   "source": [
    "#read in roads shp file\n",
    "roads_gdf = gpd.read_file('')\n",
    "roads_gdf.head()"
   ]
  },
  {
   "cell_type": "code",
   "execution_count": 28,
   "metadata": {},
   "outputs": [
    {
     "data": {
      "text/plain": [
       "228"
      ]
     },
     "execution_count": 28,
     "metadata": {},
     "output_type": "execute_result"
    }
   ],
   "source": [
    "roads_gdf.shape[0]"
   ]
  },
  {
   "cell_type": "code",
   "execution_count": 29,
   "metadata": {},
   "outputs": [
    {
     "data": {
      "text/html": [
       "<div>\n",
       "<style scoped>\n",
       "    .dataframe tbody tr th:only-of-type {\n",
       "        vertical-align: middle;\n",
       "    }\n",
       "\n",
       "    .dataframe tbody tr th {\n",
       "        vertical-align: top;\n",
       "    }\n",
       "\n",
       "    .dataframe thead th {\n",
       "        text-align: right;\n",
       "    }\n",
       "</style>\n",
       "<table border=\"1\" class=\"dataframe\">\n",
       "  <thead>\n",
       "    <tr style=\"text-align: right;\">\n",
       "      <th></th>\n",
       "      <th>latitude</th>\n",
       "      <th>longitude</th>\n",
       "      <th>distances</th>\n",
       "      <th>ind</th>\n",
       "      <th>frame</th>\n",
       "      <th>section</th>\n",
       "      <th>classes</th>\n",
       "      <th>ind2</th>\n",
       "      <th>scores</th>\n",
       "      <th>class_id</th>\n",
       "      <th>...</th>\n",
       "      <th>height</th>\n",
       "      <th>width</th>\n",
       "      <th>total_area</th>\n",
       "      <th>perc_area</th>\n",
       "      <th>fail_id_se</th>\n",
       "      <th>Video Name</th>\n",
       "      <th>defect_rea</th>\n",
       "      <th>defect_r_1</th>\n",
       "      <th>defect_are</th>\n",
       "      <th>geometry</th>\n",
       "    </tr>\n",
       "  </thead>\n",
       "  <tbody>\n",
       "    <tr>\n",
       "      <th>0</th>\n",
       "      <td>5.819276</td>\n",
       "      <td>-57.052785</td>\n",
       "      <td>0.016472</td>\n",
       "      <td>30</td>\n",
       "      <td>40.0</td>\n",
       "      <td>0</td>\n",
       "      <td>Desenfoque Linea Blanca</td>\n",
       "      <td>30</td>\n",
       "      <td>0.746718</td>\n",
       "      <td>Desenfoque Linea Blanca</td>\n",
       "      <td>...</td>\n",
       "      <td>535.338974</td>\n",
       "      <td>945.616129</td>\n",
       "      <td>4110080</td>\n",
       "      <td>0.123167</td>\n",
       "      <td>0</td>\n",
       "      <td>Suriname\\Results\\GX011381 (2)</td>\n",
       "      <td>3.349057</td>\n",
       "      <td>1.204346</td>\n",
       "      <td>4.033422</td>\n",
       "      <td>POINT (-57.05278 5.81928)</td>\n",
       "    </tr>\n",
       "    <tr>\n",
       "      <th>1</th>\n",
       "      <td>5.819275</td>\n",
       "      <td>-57.052785</td>\n",
       "      <td>0.016472</td>\n",
       "      <td>32</td>\n",
       "      <td>49.0</td>\n",
       "      <td>0</td>\n",
       "      <td>Desenfoque Linea Blanca</td>\n",
       "      <td>33</td>\n",
       "      <td>0.790074</td>\n",
       "      <td>Desenfoque Linea Blanca</td>\n",
       "      <td>...</td>\n",
       "      <td>223.665161</td>\n",
       "      <td>646.487019</td>\n",
       "      <td>4110080</td>\n",
       "      <td>0.035181</td>\n",
       "      <td>1</td>\n",
       "      <td>Suriname\\Results\\GX011381 (2)</td>\n",
       "      <td>2.289642</td>\n",
       "      <td>0.503177</td>\n",
       "      <td>1.152094</td>\n",
       "      <td>POINT (-57.05279 5.81928)</td>\n",
       "    </tr>\n",
       "    <tr>\n",
       "      <th>2</th>\n",
       "      <td>5.819274</td>\n",
       "      <td>-57.052786</td>\n",
       "      <td>0.016472</td>\n",
       "      <td>35</td>\n",
       "      <td>57.0</td>\n",
       "      <td>0</td>\n",
       "      <td>Desenfoque Linea Blanca</td>\n",
       "      <td>36</td>\n",
       "      <td>0.713043</td>\n",
       "      <td>Desenfoque Linea Blanca</td>\n",
       "      <td>...</td>\n",
       "      <td>221.810961</td>\n",
       "      <td>667.914698</td>\n",
       "      <td>4110080</td>\n",
       "      <td>0.036046</td>\n",
       "      <td>1</td>\n",
       "      <td>Suriname\\Results\\GX011381 (2)</td>\n",
       "      <td>2.365531</td>\n",
       "      <td>0.499005</td>\n",
       "      <td>1.180413</td>\n",
       "      <td>POINT (-57.05279 5.81927)</td>\n",
       "    </tr>\n",
       "    <tr>\n",
       "      <th>3</th>\n",
       "      <td>5.817883</td>\n",
       "      <td>-57.053412</td>\n",
       "      <td>1.063324</td>\n",
       "      <td>41</td>\n",
       "      <td>92.0</td>\n",
       "      <td>2</td>\n",
       "      <td>Desenfoque Linea Blanca</td>\n",
       "      <td>42</td>\n",
       "      <td>0.903465</td>\n",
       "      <td>Desenfoque Linea Blanca</td>\n",
       "      <td>...</td>\n",
       "      <td>237.500181</td>\n",
       "      <td>869.388390</td>\n",
       "      <td>4110080</td>\n",
       "      <td>0.050237</td>\n",
       "      <td>4</td>\n",
       "      <td>Suriname\\Results\\GX011381 (2)</td>\n",
       "      <td>3.079084</td>\n",
       "      <td>0.534301</td>\n",
       "      <td>1.645158</td>\n",
       "      <td>POINT (-57.05341 5.81788)</td>\n",
       "    </tr>\n",
       "    <tr>\n",
       "      <th>4</th>\n",
       "      <td>5.816069</td>\n",
       "      <td>-57.054230</td>\n",
       "      <td>1.104771</td>\n",
       "      <td>45</td>\n",
       "      <td>112.0</td>\n",
       "      <td>4</td>\n",
       "      <td>Desenfoque Linea Blanca</td>\n",
       "      <td>46</td>\n",
       "      <td>0.704433</td>\n",
       "      <td>Desenfoque Linea Blanca</td>\n",
       "      <td>...</td>\n",
       "      <td>229.086609</td>\n",
       "      <td>600.341516</td>\n",
       "      <td>4110080</td>\n",
       "      <td>0.033462</td>\n",
       "      <td>7</td>\n",
       "      <td>Suriname\\Results\\GX011381 (2)</td>\n",
       "      <td>2.126210</td>\n",
       "      <td>0.515373</td>\n",
       "      <td>1.095792</td>\n",
       "      <td>POINT (-57.05423 5.81607)</td>\n",
       "    </tr>\n",
       "  </tbody>\n",
       "</table>\n",
       "<p>5 rows × 22 columns</p>\n",
       "</div>"
      ],
      "text/plain": [
       "   latitude  longitude  distances  ind  frame  section  \\\n",
       "0  5.819276 -57.052785   0.016472   30   40.0        0   \n",
       "1  5.819275 -57.052785   0.016472   32   49.0        0   \n",
       "2  5.819274 -57.052786   0.016472   35   57.0        0   \n",
       "3  5.817883 -57.053412   1.063324   41   92.0        2   \n",
       "4  5.816069 -57.054230   1.104771   45  112.0        4   \n",
       "\n",
       "                   classes  ind2    scores                 class_id  ...  \\\n",
       "0  Desenfoque Linea Blanca    30  0.746718  Desenfoque Linea Blanca  ...   \n",
       "1  Desenfoque Linea Blanca    33  0.790074  Desenfoque Linea Blanca  ...   \n",
       "2  Desenfoque Linea Blanca    36  0.713043  Desenfoque Linea Blanca  ...   \n",
       "3  Desenfoque Linea Blanca    42  0.903465  Desenfoque Linea Blanca  ...   \n",
       "4  Desenfoque Linea Blanca    46  0.704433  Desenfoque Linea Blanca  ...   \n",
       "\n",
       "       height       width  total_area  perc_area  fail_id_se  \\\n",
       "0  535.338974  945.616129     4110080   0.123167           0   \n",
       "1  223.665161  646.487019     4110080   0.035181           1   \n",
       "2  221.810961  667.914698     4110080   0.036046           1   \n",
       "3  237.500181  869.388390     4110080   0.050237           4   \n",
       "4  229.086609  600.341516     4110080   0.033462           7   \n",
       "\n",
       "                      Video Name  defect_rea defect_r_1  defect_are  \\\n",
       "0  Suriname\\Results\\GX011381 (2)    3.349057   1.204346    4.033422   \n",
       "1  Suriname\\Results\\GX011381 (2)    2.289642   0.503177    1.152094   \n",
       "2  Suriname\\Results\\GX011381 (2)    2.365531   0.499005    1.180413   \n",
       "3  Suriname\\Results\\GX011381 (2)    3.079084   0.534301    1.645158   \n",
       "4  Suriname\\Results\\GX011381 (2)    2.126210   0.515373    1.095792   \n",
       "\n",
       "                    geometry  \n",
       "0  POINT (-57.05278 5.81928)  \n",
       "1  POINT (-57.05279 5.81928)  \n",
       "2  POINT (-57.05279 5.81927)  \n",
       "3  POINT (-57.05341 5.81788)  \n",
       "4  POINT (-57.05423 5.81607)  \n",
       "\n",
       "[5 rows x 22 columns]"
      ]
     },
     "execution_count": 29,
     "metadata": {},
     "output_type": "execute_result"
    }
   ],
   "source": [
    "#read in defects shp file\n",
    "defects_gdf = gpd.read_file('')\n",
    "defects_gdf.head()"
   ]
  },
  {
   "cell_type": "code",
   "execution_count": 30,
   "metadata": {},
   "outputs": [],
   "source": [
    "defects_gdf['geometry'] = defects_gdf['geometry'].to_crs(crs=3857)\n",
    "roads_gdf['geometry'] = roads_gdf['geometry'].to_crs(crs=3857)"
   ]
  },
  {
   "cell_type": "code",
   "execution_count": 31,
   "metadata": {},
   "outputs": [
    {
     "name": "stdout",
     "output_type": "stream",
     "text": [
      "epsg:3857\n",
      "epsg:3857\n"
     ]
    }
   ],
   "source": [
    "print(roads_gdf.crs)\n",
    "print(defects_gdf.crs)"
   ]
  },
  {
   "cell_type": "code",
   "execution_count": 32,
   "metadata": {},
   "outputs": [
    {
     "name": "stderr",
     "output_type": "stream",
     "text": [
      "C:\\Users\\artir\\Miniconda3\\envs\\geo_env\\lib\\site-packages\\geopandas\\plotting.py:51: ShapelyDeprecationWarning: The 'type' attribute is deprecated, and will be removed in the future. You can use the 'geom_type' attribute instead.\n",
      "  if geom is not None and geom.type.startswith(prefix) and not geom.is_empty:\n"
     ]
    },
    {
     "data": {
      "text/plain": [
       "<AxesSubplot:>"
      ]
     },
     "execution_count": 32,
     "metadata": {},
     "output_type": "execute_result"
    },
    {
     "data": {
      "image/png": "[encoded data removed]",
      "text/plain": [
       "<Figure size 432x288 with 1 Axes>"
      ]
     },
     "metadata": {
      "needs_background": "light"
     },
     "output_type": "display_data"
    }
   ],
   "source": [
    "roads_gdf.plot()"
   ]
  },
  {
   "cell_type": "code",
   "execution_count": 33,
   "metadata": {},
   "outputs": [
    {
     "data": {
      "text/html": [
       "<div>\n",
       "<style scoped>\n",
       "    .dataframe tbody tr th:only-of-type {\n",
       "        vertical-align: middle;\n",
       "    }\n",
       "\n",
       "    .dataframe tbody tr th {\n",
       "        vertical-align: top;\n",
       "    }\n",
       "\n",
       "    .dataframe thead th {\n",
       "        text-align: right;\n",
       "    }\n",
       "</style>\n",
       "<table border=\"1\" class=\"dataframe\">\n",
       "  <thead>\n",
       "    <tr style=\"text-align: right;\">\n",
       "      <th></th>\n",
       "      <th>name</th>\n",
       "      <th>Section_ID</th>\n",
       "      <th>U/R</th>\n",
       "      <th>parish</th>\n",
       "      <th>length</th>\n",
       "      <th>geometry</th>\n",
       "    </tr>\n",
       "  </thead>\n",
       "  <tbody>\n",
       "    <tr>\n",
       "      <th>0</th>\n",
       "      <td>Achterdam</td>\n",
       "      <td>Adam/001/Lash-Wtrl</td>\n",
       "      <td>urban</td>\n",
       "      <td>Nickerie</td>\n",
       "      <td>1192.469808</td>\n",
       "      <td>POLYGON ((-6344803.009 662309.217, -6344770.20...</td>\n",
       "    </tr>\n",
       "    <tr>\n",
       "      <th>1</th>\n",
       "      <td>Anamoestraat</td>\n",
       "      <td>Anmo/001/Plto-JoIs</td>\n",
       "      <td>urban</td>\n",
       "      <td>Paramaribo</td>\n",
       "      <td>1349.186168</td>\n",
       "      <td>POLYGON ((-6139010.955 651933.899, -6139010.89...</td>\n",
       "    </tr>\n",
       "    <tr>\n",
       "      <th>2</th>\n",
       "      <td>Anamoestraat</td>\n",
       "      <td>Anmo/002/JoIs-Klne</td>\n",
       "      <td>urban</td>\n",
       "      <td>Paramaribo</td>\n",
       "      <td>1517.271849</td>\n",
       "      <td>POLYGON ((-6138360.892 653058.527, -6138344.52...</td>\n",
       "    </tr>\n",
       "    <tr>\n",
       "      <th>3</th>\n",
       "      <td>Anton Dragtenweg</td>\n",
       "      <td>AnDr/001/Mhny-MrCu</td>\n",
       "      <td>urban</td>\n",
       "      <td>Paramaribo</td>\n",
       "      <td>1906.095615</td>\n",
       "      <td>POLYGON ((-6138085.409 650309.823, -6138044.59...</td>\n",
       "    </tr>\n",
       "    <tr>\n",
       "      <th>4</th>\n",
       "      <td>Anton Dragtenweg</td>\n",
       "      <td>AnDr/002/MrCu-Boni</td>\n",
       "      <td>urban</td>\n",
       "      <td>Paramaribo</td>\n",
       "      <td>1543.048599</td>\n",
       "      <td>POLYGON ((-6136298.928 650931.723, -6136245.08...</td>\n",
       "    </tr>\n",
       "  </tbody>\n",
       "</table>\n",
       "</div>"
      ],
      "text/plain": [
       "               name          Section_ID    U/R      parish       length  \\\n",
       "0         Achterdam  Adam/001/Lash-Wtrl  urban    Nickerie  1192.469808   \n",
       "1      Anamoestraat  Anmo/001/Plto-JoIs  urban  Paramaribo  1349.186168   \n",
       "2      Anamoestraat  Anmo/002/JoIs-Klne  urban  Paramaribo  1517.271849   \n",
       "3  Anton Dragtenweg  AnDr/001/Mhny-MrCu  urban  Paramaribo  1906.095615   \n",
       "4  Anton Dragtenweg  AnDr/002/MrCu-Boni  urban  Paramaribo  1543.048599   \n",
       "\n",
       "                                            geometry  \n",
       "0  POLYGON ((-6344803.009 662309.217, -6344770.20...  \n",
       "1  POLYGON ((-6139010.955 651933.899, -6139010.89...  \n",
       "2  POLYGON ((-6138360.892 653058.527, -6138344.52...  \n",
       "3  POLYGON ((-6138085.409 650309.823, -6138044.59...  \n",
       "4  POLYGON ((-6136298.928 650931.723, -6136245.08...  "
      ]
     },
     "execution_count": 33,
     "metadata": {},
     "output_type": "execute_result"
    }
   ],
   "source": [
    "#buffer the center line of the road (roughly 7m)\n",
    "roads_gdf['geometry'] = roads_gdf['geometry'].buffer(7.5, cap_style=2)\n",
    "roads_gdf.head()"
   ]
  },
  {
   "cell_type": "code",
   "execution_count": 34,
   "metadata": {},
   "outputs": [],
   "source": [
    "#roads_gdf['geometry'] = roads_gdf['geometry'].to_crs(crs=4326)"
   ]
  },
  {
   "cell_type": "code",
   "execution_count": 35,
   "metadata": {},
   "outputs": [],
   "source": [
    "# #buffer the defect (roughly 2.5m)\n",
    "#defects_gdf['geometry'] = defects_gdf['geometry'].buffer(3)\n",
    "#defects_gdf.head()"
   ]
  },
  {
   "cell_type": "code",
   "execution_count": 36,
   "metadata": {},
   "outputs": [
    {
     "name": "stdout",
     "output_type": "stream",
     "text": [
      "epsg:4326\n",
      "epsg:4326\n"
     ]
    }
   ],
   "source": [
    "defects_gdf['geometry'] = defects_gdf['geometry'].to_crs(crs=4326)\n",
    "roads_gdf['geometry'] = roads_gdf['geometry'].to_crs(crs=4326)\n",
    "#defects_gdf['geometry'] = defects_gdf['geometry'].to_crs(crs=3857)\n",
    "#roads_gdf['geometry'] = roads_gdf['geometry'].to_crs(crs=3857)\n",
    "print(roads_gdf.crs)\n",
    "print(defects_gdf.crs)"
   ]
  },
  {
   "cell_type": "code",
   "execution_count": 37,
   "metadata": {},
   "outputs": [],
   "source": [
    "defects_locations = gpd.sjoin(defects_gdf, roads_gdf, how='left', predicate='intersects')\n",
    "#defects_locations = defects_gdf.sjoin_nearest(roads_gdf, how='left', max_distance = 7)"
   ]
  },
  {
   "cell_type": "code",
   "execution_count": 39,
   "metadata": {},
   "outputs": [
    {
     "name": "stdout",
     "output_type": "stream",
     "text": [
      "128\n"
     ]
    }
   ],
   "source": [
    "#print(defects_locations['Section_ID'].value_counts())\n",
    "print(defects_locations['Section_ID'].isna().sum())"
   ]
  },
  {
   "cell_type": "code",
   "execution_count": 40,
   "metadata": {},
   "outputs": [
    {
     "data": {
      "text/plain": [
       "(839, 28)"
      ]
     },
     "execution_count": 40,
     "metadata": {},
     "output_type": "execute_result"
    }
   ],
   "source": [
    "defects_locations.shape"
   ]
  },
  {
   "cell_type": "code",
   "execution_count": 41,
   "metadata": {},
   "outputs": [],
   "source": [
    "#read exisitng Section\n",
    "df_main = pd.read_csv(\"\")\n",
    "#df_main.head()"
   ]
  },
  {
   "cell_type": "code",
   "execution_count": 42,
   "metadata": {},
   "outputs": [],
   "source": [
    "df_main = df_main.drop('Unnamed: 0', axis=1)\n",
    "#df_main.head()"
   ]
  },
  {
   "cell_type": "code",
   "execution_count": 43,
   "metadata": {},
   "outputs": [
    {
     "data": {
      "text/plain": [
       "1523"
      ]
     },
     "execution_count": 43,
     "metadata": {},
     "output_type": "execute_result"
    }
   ],
   "source": [
    "df_main.shape[0]"
   ]
  },
  {
   "cell_type": "code",
   "execution_count": 44,
   "metadata": {},
   "outputs": [],
   "source": [
    "merged = pd.concat([defects_locations, df_main], ignore_index=True)"
   ]
  },
  {
   "cell_type": "code",
   "execution_count": 46,
   "metadata": {},
   "outputs": [
    {
     "data": {
      "text/plain": [
       "2362"
      ]
     },
     "execution_count": 46,
     "metadata": {},
     "output_type": "execute_result"
    }
   ],
   "source": [
    "merged.shape[0]"
   ]
  },
  {
   "cell_type": "code",
   "execution_count": 47,
   "metadata": {},
   "outputs": [],
   "source": [
    "merged.to_csv(\"\")"
   ]
  }
 ],
 "metadata": {
  "kernelspec": {
   "display_name": "Python 3 (ipykernel)",
   "language": "python",
   "name": "python3"
  },
  "language_info": {
   "codemirror_mode": {
    "name": "ipython",
    "version": 3
   },
   "file_extension": ".py",
   "mimetype": "text/x-python",
   "name": "python",
   "nbconvert_exporter": "python",
   "pygments_lexer": "ipython3",
   "version": "3.8.13"
  }
 },
 "nbformat": 4,
 "nbformat_minor": 2
}
