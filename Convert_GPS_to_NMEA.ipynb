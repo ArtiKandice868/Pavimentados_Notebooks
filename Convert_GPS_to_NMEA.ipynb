{
 "cells": [
  {
   "cell_type": "code",
   "execution_count": 1,
   "metadata": {},
   "outputs": [],
   "source": [
    "import os\n",
    "from pathlib import Path\n",
    "import pandas as pd\n",
    "import datetime as dt\n",
    "import math\n",
    "import pynmea2\n",
    "from io import StringIO\n",
    "from datetime import timedelta"
   ]
  },
  {
   "cell_type": "code",
   "execution_count": 2,
   "metadata": {},
   "outputs": [],
   "source": [
    "def decdeg2nmea(dd, type_coord):\n",
    "    dd = float(dd)\n",
    "    num = abs(dd)\n",
    "    d = float(math.floor(num))\n",
    "    m = num - d\n",
    "    sign = '-' if dd < 0 else ''\n",
    "    if type_coord =='lat':\n",
    "        return '%03i%08.5f' % (int(d), m * 60.00)\n",
    "    elif type_coord =='lon':\n",
    "        return '%02i%08.5f' % (int(d), m * 60.00)\n",
    "    \n",
    "#   return sign+'%03i%02.5f' % (int(d), m * 60.00)"
   ]
  },
  {
   "cell_type": "code",
   "execution_count": 3,
   "metadata": {},
   "outputs": [],
   "source": [
    "# folder_path = os.getcwd()\n",
    "# print(folder_path)"
   ]
  },
  {
   "cell_type": "code",
   "execution_count": 4,
   "metadata": {},
   "outputs": [
    {
     "name": "stdout",
     "output_type": "stream",
     "text": [
      "s3//\n"
     ]
    }
   ],
   "source": [
    "# Specify the folder containing .csv files\n",
    "folder_path = ''\n",
    "print(folder_path)"
   ]
  },
  {
   "cell_type": "code",
   "execution_count": 5,
   "metadata": {},
   "outputs": [],
   "source": [
    "def process_csv_files(folder_path):\n",
    "    # Iterate through sub-folders and files in the main folder\n",
    "    for root, dirs, files in os.walk(folder_path):\n",
    "        for file_name in files:\n",
    "            if file_name.endswith('.csv'):\n",
    "                csv_file_path = os.path.join(root, file_name)\n",
    "                log_file_path = os.path.join(root, os.path.splitext(file_name)[0] + '.LOG')\n",
    "\n",
    "                try:\n",
    "                    # Read the CSV file into a DataFrame\n",
    "                    df = pd.read_csv(csv_file_path)\n",
    "                    df.rename(columns={'GPS (Lat.) [deg]': 'latitude', 'GPS (Long.) [deg]': 'longitude'}, inplace=True)\n",
    "                    df['%'] = None\n",
    "                    df['GPST'] = None\n",
    "                    df['timestamp'] = list(\n",
    "                        map(lambda x, y, z: dt.datetime.strptime(f'{x} {y}', '%d/%m/%Y %H:%M:%S.%f')\n",
    "                            if pd.notnull(x)\n",
    "                            else (dt.datetime.strptime(str(z), '%Y-%m-%dT%H:%M:%S.%fZ')  # with timezone\n",
    "                                  if str(z) != 'nan' else None), df['%'], df.GPST, df.date))\n",
    "                    hour_correction = 3\n",
    "                    df['timestamp'] = pd.to_datetime(df['timestamp']) - timedelta(hours=hour_correction)\n",
    "                    df['timestamp_str'] = list(map(lambda x: dt.datetime.strftime(x, '%d-%m-%Y %H:%M:%S'), df.timestamp))\n",
    "                    df['DateTimeNumbers'] = list(\n",
    "                        map(lambda x: float((x.hour * 10000) + (x.minute * 100) + x.second), df.timestamp))\n",
    "                    df['latitude_nmea'] = list(map(lambda x: decdeg2nmea(x, type_coord='lat'), df.latitude.values))\n",
    "                    df['longitude_nmea'] = list(map(lambda x: decdeg2nmea(x, type_coord='lon'), df.longitude.values))\n",
    "                    df['N/S'] = ''\n",
    "                    df['E/W'] = ''\n",
    "\n",
    "                    for index, row in df.iterrows():\n",
    "                        # Check the sign of latitude\n",
    "                        if row['latitude'] >= 0:\n",
    "                            df.at[index, 'N/S'] = 'N'\n",
    "                        else:\n",
    "                            df.at[index, 'N/S'] = 'S'\n",
    "\n",
    "                        # Check the sign of longitude\n",
    "                        if row['longitude'] >= 0:\n",
    "                            df.at[index, 'E/W'] = 'E'\n",
    "                        else:\n",
    "                            df.at[index, 'E/W'] = 'W'\n",
    "\n",
    "                    df['GPGGA'] = list(\n",
    "                        map(lambda x: '$GPGGA,{0:.4f},{1},{2},{3},{4},1,0,,,M,,M,,\\n'.format(x[0], x[1], x[2], x[3], x[4]),\n",
    "                            df[['DateTimeNumbers', 'latitude_nmea', 'N/S', 'longitude_nmea', 'E/W']].values))\n",
    "                    df['GPRMC'] = list(\n",
    "                        map(lambda x: '$GPRMC,{0:.4f},A,{1},{2},{3},{4},19.31,,250620,,,\\n'.format(x[0], x[1], x[2], x[3], x[4]),\n",
    "                            df[['DateTimeNumbers', 'latitude_nmea', 'N/S', 'longitude_nmea', 'E/W']].values))\n",
    "                    df['lines'] = df.GPGGA.values + df.GPRMC.values\n",
    "                    PRE_TEXT = '@Sonygps/ver5.0/wgs-84/20200625135753.000/\\n@Sonygpsoption/0/20200625135754.000/20200625135754.000/\\n'\n",
    "\n",
    "                    with open(log_file_path, \"x\") as file:\n",
    "                        file.write(PRE_TEXT)\n",
    "                        for line in df.lines.values:\n",
    "                            file.write(line)\n",
    "                    print(f\"Converted '{csv_file_path}' to '{log_file_path}'\")\n",
    "\n",
    "                except Exception as e:\n",
    "                    print(f\"Skipping '{csv_file_path}': {str(e)}\")"
   ]
  },
  {
   "cell_type": "code",
   "execution_count": 6,
   "metadata": {},
   "outputs": [
    {
     "name": "stdout",
     "output_type": "stream",
     "text": [
      "Converted 's3//GX011381.csv' to 's3//GX011381.LOG'\n",
      "Converted 's3//GX011382.csv' to 's3//GX011382.LOG'\n",
      "Converted 's3//GX011383.csv' to 's3//GX011383.LOG'\n",
      "Converted 's3//GX011384.csv' to 's3//GX011384.LOG'\n",
      "Converted 's3//GX011385.csv' to 's3//GX011385.LOG'\n",
      "Converted 's3//GX011386.csv' to 's3//GX011386.LOG'\n",
      "Converted 's3//GX011387.csv' to 's3//GX011387.LOG'\n",
      "Converted 's3//GX011387_1.csv' to 's3//GX011387_1.LOG'\n",
      "Converted 's3//GX011388.csv' to 's3//GX011388.LOG'\n",
      "Converted 's3//GX011388_1.csv' to 's3//GX011388_1.LOG'\n",
      "Converted 's3//GX011389.csv' to 's3//GX011389.LOG'\n",
      "Converted 's3//GX011389_1.csv' to 's3//GX011389_1.LOG'\n",
      "Converted 's3//GX011390.csv' to 's3//GX011390.LOG'\n",
      "Converted 's3//GX011390_1.csv' to 's3//GX011390_1.LOG'\n",
      "Converted 's3//GX011391.csv' to 's3//GX011391.LOG'\n",
      "Converted 's3//GX011391_1.csv' to 's3//GX011391_1.LOG'\n",
      "Converted 's3//GX011392.csv' to 's3//GX011392.LOG'\n",
      "Converted 's3//GX011392_1.csv' to 's3//GX011392_1.LOG'\n",
      "Converted 's3//GX011392_2.csv' to 's3//GX011392_2.LOG'\n",
      "Converted 's3//GX011393.csv' to 's3//GX011393.LOG'\n",
      "Converted 's3//GX011393_1.csv' to 's3//GX011393_1.LOG'\n",
      "Converted 's3//GX011394.csv' to 's3//GX011394.LOG'\n",
      "Converted 's3//GX011394_1.csv' to 's3//GX011394_1.LOG'\n",
      "Converted 's3//GX011395.csv' to 's3//GX011395.LOG'\n",
      "Converted 's3//GX011395_1.csv' to 's3//GX011395_1.LOG'\n",
      "Converted 's3//GX011396.csv' to 's3//GX011396.LOG'\n",
      "Converted 's3//GX011396_1.csv' to 's3//GX011396_1.LOG'\n",
      "Converted 's3//GX011397.csv' to 's3//GX011397.LOG'\n",
      "Converted 's3//GX011397_1.csv' to 's3//GX011397_1.LOG'\n",
      "Converted 's3//GX011398.csv' to 's3//GX011398.LOG'\n",
      "Converted 's3//GX011398_1.csv' to 's3//GX011398_1.LOG'\n",
      "Converted 's3//GX011399.csv' to 's3//GX011399.LOG'\n",
      "Converted 's3//GX011399_1.csv' to 's3//GX011399_1.LOG'\n",
      "Converted 's3//GX011400.csv' to 's3//GX011400.LOG'\n",
      "Converted 's3//GX011400_1.csv' to 's3//GX011400_1.LOG'\n",
      "Converted 's3//GX011401.csv' to 's3//GX011401.LOG'\n",
      "Converted 's3//GX011402.csv' to 's3//GX011402.LOG'\n",
      "Converted 's3//GX011403.csv' to 's3//GX011403.LOG'\n",
      "Converted 's3//GX011404.csv' to 's3//GX011404.LOG'\n",
      "Converted 's3//GX011405.csv' to 's3//GX011405.LOG'\n",
      "Converted 's3//GX011406.csv' to 's3//GX011406.LOG'\n",
      "Converted 's3//GX011407.csv' to 's3//GX011407.LOG'\n",
      "Converted 's3//GX011408.csv' to 's3//GX011408.LOG'\n"
     ]
    }
   ],
   "source": [
    "process_csv_files(folder_path)"
   ]
  },
  {
   "cell_type": "code",
   "execution_count": null,
   "metadata": {},
   "outputs": [],
   "source": []
  }
 ],
 "metadata": {
  "kernelspec": {
   "display_name": "Python 3 (ipykernel)",
   "language": "python",
   "name": "python3"
  },
  "language_info": {
   "codemirror_mode": {
    "name": "ipython",
    "version": 3
   },
   "file_extension": ".py",
   "mimetype": "text/x-python",
   "name": "python",
   "nbconvert_exporter": "python",
   "pygments_lexer": "ipython3",
   "version": "3.8.13"
  }
 },
 "nbformat": 4,
 "nbformat_minor": 2
}
