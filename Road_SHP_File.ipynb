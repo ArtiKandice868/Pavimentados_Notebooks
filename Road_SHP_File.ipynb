{
 "cells": [
  {
   "cell_type": "code",
   "execution_count": 1,
   "metadata": {},
   "outputs": [
    {
     "name": "stderr",
     "output_type": "stream",
     "text": [
      "C:\\Users\\artir\\Miniconda3\\envs\\geo_env\\lib\\site-packages\\geopandas\\_compat.py:112: UserWarning: The Shapely GEOS version (3.11.1-CAPI-1.17.1) is incompatible with the GEOS version PyGEOS was compiled with (3.10.3-CAPI-1.16.1). Conversions between both will be slow.\n",
      "  warnings.warn(\n"
     ]
    }
   ],
   "source": [
    "import geopandas as gpd\n",
    "import pandas as pd\n",
    "import pandas as pd\n",
    "from shapely.geometry import Point\n",
    "from shapely.ops import linemerge, Polygon, LineString\n",
    "from shapely.geometry import MultiLineString\n",
    "import matplotlib.pyplot as plt\n",
    "import plotly.express as px\n",
    "from typing import List"
   ]
  },
  {
   "cell_type": "code",
   "execution_count": 2,
   "metadata": {},
   "outputs": [],
   "source": [
    "pd.set_option('display.max_rows', None)"
   ]
  },
  {
   "cell_type": "code",
   "execution_count": 3,
   "metadata": {},
   "outputs": [],
   "source": [
    "roads_gdf = gpd.read_file('')"
   ]
  },
  {
   "cell_type": "code",
   "execution_count": 5,
   "metadata": {},
   "outputs": [],
   "source": [
    "roads_gdf = roads_gdf[roads_gdf['Section_ID'].notnull()]\n",
    "#roads_gdf.head()"
   ]
  },
  {
   "cell_type": "code",
   "execution_count": 6,
   "metadata": {},
   "outputs": [
    {
     "data": {
      "text/plain": [
       "Index(['osm_id', 'lanes', 'highway', 'smoothness', 'layer', 'name', 'source',\n",
       "       'surface', 'width', 'bridge', 'oneway', 'length', 'parish',\n",
       "       'Section_ID', 'U/R', 'comment', 'new_length', 'geometry'],\n",
       "      dtype='object')"
      ]
     },
     "execution_count": 6,
     "metadata": {},
     "output_type": "execute_result"
    }
   ],
   "source": [
    "roads_gdf.columns"
   ]
  },
  {
   "cell_type": "code",
   "execution_count": 7,
   "metadata": {},
   "outputs": [
    {
     "data": {
      "text/plain": [
       "534"
      ]
     },
     "execution_count": 7,
     "metadata": {},
     "output_type": "execute_result"
    }
   ],
   "source": [
    "roads_gdf.shape[0]"
   ]
  },
  {
   "cell_type": "code",
   "execution_count": 8,
   "metadata": {},
   "outputs": [
    {
     "name": "stdout",
     "output_type": "stream",
     "text": [
      "['Achterdam', 'Anamoestraat', 'Anton Dragtenweg', 'Avobakaweg', 'Biswamitreweg', 'Bomaweg', 'Bonistraat', 'Brownsweg', 'Cassialaan', 'Coesewijnestraat', 'Commissaris Roblesweg', 'Commissaris Thurkowweg', 'Cornelis Jongbawstraat', 'Dr. Sophie Redmondstraat', 'G.G. Maynardstraat', 'Garnizoenspad', 'Gemenelandsweg', 'Gladiolenstraat', 'Gravenbergstraat', 'Hamburgstraat', 'Henck Arronstraat', 'Hendrikstraat', 'Indira Gandhiweg', 'Industrieweg Noord', 'Industrieweg Zuid', 'Jacques Gompertsstraat', 'Johan Adolf Pengelstraat', 'Johannes S. Mungrastraat', 'Kashmirstraat', 'Keizerstraat', 'Kennedyweg', 'Kernkampweg', 'Klipstenenstraat', 'Krakaweg', 'Kwattaweg', 'Lalla Rookhweg', 'Lashleystraat', 'Latourweg', 'Licaniastraat', 'Malebatrumstraat', 'Marowijnestraat', 'Meursweg', 'Molenpad', 'Mr. Dr. J.C. De Mirandastraat', 'Mr. Jaggernath Lachmonstraat', 'Mr. P. Chandie Shawweg', 'Munderweg', 'Nieuw Weergevondenweg', 'Oost Kanaalstraat', 'Oost West Verbinding Nickerie', 'Oost-West verbinding Oost', 'Oost-West verbinding West', 'Picassostraat', 'Reebergweg', 'Saramaccastraat', 'Sir Winston Churchillweg', 'Soekramsingstraat', 'Soldatenstraat', 'Stoelmanstraat', 'Tourtonnelaan', 'Tout Lui Faut weg', 'Verlengde Bomaweg', 'Verlengde Gemenelandsweg', 'Verlengde Keizerstraat', 'Verlengde Tout Lui Fautweg', 'Verlengde Welgedacht A', 'Vierde Rijweg', 'Vijfde Rijweg', 'Washingtonstraat', 'Waterkant', 'Wayamboweg', 'Weg naar Atjoni', 'Weg naar Santigron', 'Weg naar SouthDrain', 'Weg naar Wageningen', 'Weg naar Wijdenboschbrug', 'Welgedacht C', 'West Kanaalstraat', 'Wilhelminaweg', 'Zinniastraat', 'Zonnebloemstraat', 'Zwartenhovenbrugstraat']\n"
     ]
    }
   ],
   "source": [
    "names = roads_gdf['name'].dropna()\n",
    "print(sorted(names.unique()))"
   ]
  },
  {
   "cell_type": "code",
   "execution_count": 9,
   "metadata": {},
   "outputs": [],
   "source": [
    "columns_to_extract = ['name', 'Section_ID', 'U/R', 'parish', 'geometry']"
   ]
  },
  {
   "cell_type": "code",
   "execution_count": 10,
   "metadata": {},
   "outputs": [
    {
     "data": {
      "text/html": [
       "<div>\n",
       "<style scoped>\n",
       "    .dataframe tbody tr th:only-of-type {\n",
       "        vertical-align: middle;\n",
       "    }\n",
       "\n",
       "    .dataframe tbody tr th {\n",
       "        vertical-align: top;\n",
       "    }\n",
       "\n",
       "    .dataframe thead th {\n",
       "        text-align: right;\n",
       "    }\n",
       "</style>\n",
       "<table border=\"1\" class=\"dataframe\">\n",
       "  <thead>\n",
       "    <tr style=\"text-align: right;\">\n",
       "      <th></th>\n",
       "      <th>name</th>\n",
       "      <th>Section_ID</th>\n",
       "      <th>U/R</th>\n",
       "      <th>parish</th>\n",
       "      <th>geometry</th>\n",
       "    </tr>\n",
       "  </thead>\n",
       "  <tbody>\n",
       "    <tr>\n",
       "      <th>7</th>\n",
       "      <td>Weg naar Wijdenboschbrug</td>\n",
       "      <td>Wwij/001/RoHo-JWbr</td>\n",
       "      <td>urban</td>\n",
       "      <td>Paramaribo</td>\n",
       "      <td>LINESTRING (-55.17258 5.80626, -55.17250 5.806...</td>\n",
       "    </tr>\n",
       "    <tr>\n",
       "      <th>12</th>\n",
       "      <td>Johan Adolf Pengelstraat</td>\n",
       "      <td>Peng/001/JaLa-Gmnl</td>\n",
       "      <td>urban</td>\n",
       "      <td>Paramaribo</td>\n",
       "      <td>LINESTRING (-55.17783 5.81431, -55.17761 5.814...</td>\n",
       "    </tr>\n",
       "    <tr>\n",
       "      <th>18</th>\n",
       "      <td>Johannes S. Mungrastraat</td>\n",
       "      <td>JoMu/001/Krnk-2eRW</td>\n",
       "      <td>urban</td>\n",
       "      <td>Paramaribo</td>\n",
       "      <td>LINESTRING (-55.18508 5.83110, -55.18605 5.831...</td>\n",
       "    </tr>\n",
       "    <tr>\n",
       "      <th>19</th>\n",
       "      <td>Mr. Jaggernath Lachmonstraat</td>\n",
       "      <td>JagL/001/Leys-LaRo</td>\n",
       "      <td>urban</td>\n",
       "      <td>Paramaribo</td>\n",
       "      <td>LINESTRING (-55.20558 5.81323, -55.20557 5.813...</td>\n",
       "    </tr>\n",
       "    <tr>\n",
       "      <th>20</th>\n",
       "      <td>Mr. Jaggernath Lachmonstraat</td>\n",
       "      <td>JagL/001/Leys-LaRo</td>\n",
       "      <td>urban</td>\n",
       "      <td>Paramaribo</td>\n",
       "      <td>LINESTRING (-55.20552 5.81304, -55.20566 5.813...</td>\n",
       "    </tr>\n",
       "  </tbody>\n",
       "</table>\n",
       "</div>"
      ],
      "text/plain": [
       "                            name          Section_ID    U/R      parish  \\\n",
       "7       Weg naar Wijdenboschbrug  Wwij/001/RoHo-JWbr  urban  Paramaribo   \n",
       "12      Johan Adolf Pengelstraat  Peng/001/JaLa-Gmnl  urban  Paramaribo   \n",
       "18      Johannes S. Mungrastraat  JoMu/001/Krnk-2eRW  urban  Paramaribo   \n",
       "19  Mr. Jaggernath Lachmonstraat  JagL/001/Leys-LaRo  urban  Paramaribo   \n",
       "20  Mr. Jaggernath Lachmonstraat  JagL/001/Leys-LaRo  urban  Paramaribo   \n",
       "\n",
       "                                             geometry  \n",
       "7   LINESTRING (-55.17258 5.80626, -55.17250 5.806...  \n",
       "12  LINESTRING (-55.17783 5.81431, -55.17761 5.814...  \n",
       "18  LINESTRING (-55.18508 5.83110, -55.18605 5.831...  \n",
       "19  LINESTRING (-55.20558 5.81323, -55.20557 5.813...  \n",
       "20  LINESTRING (-55.20552 5.81304, -55.20566 5.813...  "
      ]
     },
     "execution_count": 10,
     "metadata": {},
     "output_type": "execute_result"
    }
   ],
   "source": [
    "roads_gdf = roads_gdf[columns_to_extract]\n",
    "roads_gdf.head()"
   ]
  },
  {
   "cell_type": "code",
   "execution_count": 11,
   "metadata": {},
   "outputs": [
    {
     "data": {
      "text/plain": [
       "534"
      ]
     },
     "execution_count": 11,
     "metadata": {},
     "output_type": "execute_result"
    }
   ],
   "source": [
    "roads_gdf.shape[0]"
   ]
  },
  {
   "cell_type": "code",
   "execution_count": 12,
   "metadata": {},
   "outputs": [
    {
     "data": {
      "text/plain": [
       "<Geographic 2D CRS: EPSG:4326>\n",
       "Name: WGS 84\n",
       "Axis Info [ellipsoidal]:\n",
       "- Lat[north]: Geodetic latitude (degree)\n",
       "- Lon[east]: Geodetic longitude (degree)\n",
       "Area of Use:\n",
       "- name: World.\n",
       "- bounds: (-180.0, -90.0, 180.0, 90.0)\n",
       "Datum: World Geodetic System 1984 ensemble\n",
       "- Ellipsoid: WGS 84\n",
       "- Prime Meridian: Greenwich"
      ]
     },
     "execution_count": 12,
     "metadata": {},
     "output_type": "execute_result"
    }
   ],
   "source": [
    "roads_gdf.crs"
   ]
  },
  {
   "cell_type": "code",
   "execution_count": 13,
   "metadata": {},
   "outputs": [],
   "source": [
    "roads = roads_gdf.dissolve(by=['name', 'Section_ID']).reset_index()"
   ]
  },
  {
   "cell_type": "code",
   "execution_count": 15,
   "metadata": {},
   "outputs": [
    {
     "data": {
      "text/plain": [
       "228"
      ]
     },
     "execution_count": 15,
     "metadata": {},
     "output_type": "execute_result"
    }
   ],
   "source": [
    "roads.shape[0]"
   ]
  },
  {
   "cell_type": "code",
   "execution_count": 16,
   "metadata": {},
   "outputs": [],
   "source": [
    "#roads.head(200)"
   ]
  },
  {
   "cell_type": "code",
   "execution_count": 17,
   "metadata": {},
   "outputs": [],
   "source": [
    "def merge_linestrings(geom):\n",
    "    if isinstance(geom, MultiLineString):\n",
    "        return linemerge(geom)\n",
    "    else:\n",
    "        return geom"
   ]
  },
  {
   "cell_type": "code",
   "execution_count": 18,
   "metadata": {},
   "outputs": [],
   "source": [
    "merged_gdf = roads.copy()"
   ]
  },
  {
   "cell_type": "code",
   "execution_count": 19,
   "metadata": {},
   "outputs": [
    {
     "data": {
      "text/plain": [
       "228"
      ]
     },
     "execution_count": 19,
     "metadata": {},
     "output_type": "execute_result"
    }
   ],
   "source": [
    "merged_gdf.shape[0]"
   ]
  },
  {
   "cell_type": "code",
   "execution_count": 20,
   "metadata": {},
   "outputs": [],
   "source": [
    "merged_gdf['geometry'] = merged_gdf['geometry'].apply(merge_linestrings)"
   ]
  },
  {
   "cell_type": "code",
   "execution_count": 21,
   "metadata": {},
   "outputs": [],
   "source": [
    "#merged_gdf['geometry'] = merged_gdf['geometry'].apply(merge_linestrings)"
   ]
  },
  {
   "cell_type": "code",
   "execution_count": 22,
   "metadata": {},
   "outputs": [
    {
     "data": {
      "text/plain": [
       "228"
      ]
     },
     "execution_count": 22,
     "metadata": {},
     "output_type": "execute_result"
    }
   ],
   "source": [
    "merged_gdf.shape[0]"
   ]
  },
  {
   "cell_type": "code",
   "execution_count": 25,
   "metadata": {},
   "outputs": [
    {
     "name": "stderr",
     "output_type": "stream",
     "text": [
      "C:\\Users\\artir\\Miniconda3\\envs\\geo_env\\lib\\site-packages\\geopandas\\plotting.py:51: ShapelyDeprecationWarning: The 'type' attribute is deprecated, and will be removed in the future. You can use the 'geom_type' attribute instead.\n",
      "  if geom is not None and geom.type.startswith(prefix) and not geom.is_empty:\n"
     ]
    },
    {
     "data": {
      "text/plain": [
       "<AxesSubplot:>"
      ]
     },
     "execution_count": 25,
     "metadata": {},
     "output_type": "execute_result"
    },
    {
     "data": {
      "image/png": "[encoded data removed]",
      "text/plain": [
       "<Figure size 432x288 with 1 Axes>"
      ]
     },
     "metadata": {
      "needs_background": "light"
     },
     "output_type": "display_data"
    }
   ],
   "source": [
    "merged_gdf.plot()"
   ]
  },
  {
   "cell_type": "code",
   "execution_count": 26,
   "metadata": {},
   "outputs": [],
   "source": [
    "merged_gdf['geometry'] = merged_gdf['geometry'].to_crs(crs=3857)"
   ]
  },
  {
   "cell_type": "code",
   "execution_count": 27,
   "metadata": {},
   "outputs": [
    {
     "data": {
      "text/html": [
       "<div>\n",
       "<style scoped>\n",
       "    .dataframe tbody tr th:only-of-type {\n",
       "        vertical-align: middle;\n",
       "    }\n",
       "\n",
       "    .dataframe tbody tr th {\n",
       "        vertical-align: top;\n",
       "    }\n",
       "\n",
       "    .dataframe thead th {\n",
       "        text-align: right;\n",
       "    }\n",
       "</style>\n",
       "<table border=\"1\" class=\"dataframe\">\n",
       "  <thead>\n",
       "    <tr style=\"text-align: right;\">\n",
       "      <th></th>\n",
       "      <th>name</th>\n",
       "      <th>Section_ID</th>\n",
       "      <th>geometry</th>\n",
       "      <th>U/R</th>\n",
       "      <th>parish</th>\n",
       "      <th>length</th>\n",
       "    </tr>\n",
       "  </thead>\n",
       "  <tbody>\n",
       "    <tr>\n",
       "      <th>0</th>\n",
       "      <td>Achterdam</td>\n",
       "      <td>Adam/001/Lash-Wtrl</td>\n",
       "      <td>LINESTRING (-6344891.588 662306.080, -6344803....</td>\n",
       "      <td>urban</td>\n",
       "      <td>Nickerie</td>\n",
       "      <td>1192.469808</td>\n",
       "    </tr>\n",
       "    <tr>\n",
       "      <th>1</th>\n",
       "      <td>Anamoestraat</td>\n",
       "      <td>Anmo/001/Plto-JoIs</td>\n",
       "      <td>LINESTRING (-6139034.851 651874.998, -6139004....</td>\n",
       "      <td>urban</td>\n",
       "      <td>Paramaribo</td>\n",
       "      <td>1349.186168</td>\n",
       "    </tr>\n",
       "    <tr>\n",
       "      <th>2</th>\n",
       "      <td>Anamoestraat</td>\n",
       "      <td>Anmo/002/JoIs-Klne</td>\n",
       "      <td>LINESTRING (-6138360.926 653043.616, -6138354....</td>\n",
       "      <td>urban</td>\n",
       "      <td>Paramaribo</td>\n",
       "      <td>1517.271849</td>\n",
       "    </tr>\n",
       "    <tr>\n",
       "      <th>3</th>\n",
       "      <td>Anton Dragtenweg</td>\n",
       "      <td>AnDr/001/Mhny-MrCu</td>\n",
       "      <td>LINESTRING (-6138099.426 650297.366, -6138083....</td>\n",
       "      <td>urban</td>\n",
       "      <td>Paramaribo</td>\n",
       "      <td>1906.095615</td>\n",
       "    </tr>\n",
       "    <tr>\n",
       "      <th>4</th>\n",
       "      <td>Anton Dragtenweg</td>\n",
       "      <td>AnDr/002/MrCu-Boni</td>\n",
       "      <td>LINESTRING (-6136303.188 650922.203, -6136296....</td>\n",
       "      <td>urban</td>\n",
       "      <td>Paramaribo</td>\n",
       "      <td>1543.048599</td>\n",
       "    </tr>\n",
       "  </tbody>\n",
       "</table>\n",
       "</div>"
      ],
      "text/plain": [
       "               name          Section_ID  \\\n",
       "0         Achterdam  Adam/001/Lash-Wtrl   \n",
       "1      Anamoestraat  Anmo/001/Plto-JoIs   \n",
       "2      Anamoestraat  Anmo/002/JoIs-Klne   \n",
       "3  Anton Dragtenweg  AnDr/001/Mhny-MrCu   \n",
       "4  Anton Dragtenweg  AnDr/002/MrCu-Boni   \n",
       "\n",
       "                                            geometry    U/R      parish  \\\n",
       "0  LINESTRING (-6344891.588 662306.080, -6344803....  urban    Nickerie   \n",
       "1  LINESTRING (-6139034.851 651874.998, -6139004....  urban  Paramaribo   \n",
       "2  LINESTRING (-6138360.926 653043.616, -6138354....  urban  Paramaribo   \n",
       "3  LINESTRING (-6138099.426 650297.366, -6138083....  urban  Paramaribo   \n",
       "4  LINESTRING (-6136303.188 650922.203, -6136296....  urban  Paramaribo   \n",
       "\n",
       "        length  \n",
       "0  1192.469808  \n",
       "1  1349.186168  \n",
       "2  1517.271849  \n",
       "3  1906.095615  \n",
       "4  1543.048599  "
      ]
     },
     "execution_count": 27,
     "metadata": {},
     "output_type": "execute_result"
    }
   ],
   "source": [
    "merged_gdf['length'] = merged_gdf['geometry'].length\n",
    "merged_gdf.head()"
   ]
  },
  {
   "cell_type": "code",
   "execution_count": 28,
   "metadata": {},
   "outputs": [
    {
     "data": {
      "text/html": [
       "<div>\n",
       "<style scoped>\n",
       "    .dataframe tbody tr th:only-of-type {\n",
       "        vertical-align: middle;\n",
       "    }\n",
       "\n",
       "    .dataframe tbody tr th {\n",
       "        vertical-align: top;\n",
       "    }\n",
       "\n",
       "    .dataframe thead th {\n",
       "        text-align: right;\n",
       "    }\n",
       "</style>\n",
       "<table border=\"1\" class=\"dataframe\">\n",
       "  <thead>\n",
       "    <tr style=\"text-align: right;\">\n",
       "      <th></th>\n",
       "      <th>name</th>\n",
       "      <th>Section_ID</th>\n",
       "      <th>geometry</th>\n",
       "      <th>U/R</th>\n",
       "      <th>parish</th>\n",
       "      <th>length</th>\n",
       "    </tr>\n",
       "  </thead>\n",
       "  <tbody>\n",
       "    <tr>\n",
       "      <th>0</th>\n",
       "      <td>Achterdam</td>\n",
       "      <td>Adam/001/Lash-Wtrl</td>\n",
       "      <td>LINESTRING (-56.99713 5.93893, -56.99634 5.938...</td>\n",
       "      <td>urban</td>\n",
       "      <td>Nickerie</td>\n",
       "      <td>1192.469808</td>\n",
       "    </tr>\n",
       "    <tr>\n",
       "      <th>1</th>\n",
       "      <td>Anamoestraat</td>\n",
       "      <td>Anmo/001/Plto-JoIs</td>\n",
       "      <td>LINESTRING (-55.14789 5.84572, -55.14761 5.846...</td>\n",
       "      <td>urban</td>\n",
       "      <td>Paramaribo</td>\n",
       "      <td>1349.186168</td>\n",
       "    </tr>\n",
       "    <tr>\n",
       "      <th>2</th>\n",
       "      <td>Anamoestraat</td>\n",
       "      <td>Anmo/002/JoIs-Klne</td>\n",
       "      <td>LINESTRING (-55.14183 5.85617, -55.14178 5.856...</td>\n",
       "      <td>urban</td>\n",
       "      <td>Paramaribo</td>\n",
       "      <td>1517.271849</td>\n",
       "    </tr>\n",
       "    <tr>\n",
       "      <th>3</th>\n",
       "      <td>Anton Dragtenweg</td>\n",
       "      <td>AnDr/001/Mhny-MrCu</td>\n",
       "      <td>LINESTRING (-55.13949 5.83163, -55.13934 5.831...</td>\n",
       "      <td>urban</td>\n",
       "      <td>Paramaribo</td>\n",
       "      <td>1906.095615</td>\n",
       "    </tr>\n",
       "    <tr>\n",
       "      <th>4</th>\n",
       "      <td>Anton Dragtenweg</td>\n",
       "      <td>AnDr/002/MrCu-Boni</td>\n",
       "      <td>LINESTRING (-55.12335 5.83721, -55.12329 5.837...</td>\n",
       "      <td>urban</td>\n",
       "      <td>Paramaribo</td>\n",
       "      <td>1543.048599</td>\n",
       "    </tr>\n",
       "  </tbody>\n",
       "</table>\n",
       "</div>"
      ],
      "text/plain": [
       "               name          Section_ID  \\\n",
       "0         Achterdam  Adam/001/Lash-Wtrl   \n",
       "1      Anamoestraat  Anmo/001/Plto-JoIs   \n",
       "2      Anamoestraat  Anmo/002/JoIs-Klne   \n",
       "3  Anton Dragtenweg  AnDr/001/Mhny-MrCu   \n",
       "4  Anton Dragtenweg  AnDr/002/MrCu-Boni   \n",
       "\n",
       "                                            geometry    U/R      parish  \\\n",
       "0  LINESTRING (-56.99713 5.93893, -56.99634 5.938...  urban    Nickerie   \n",
       "1  LINESTRING (-55.14789 5.84572, -55.14761 5.846...  urban  Paramaribo   \n",
       "2  LINESTRING (-55.14183 5.85617, -55.14178 5.856...  urban  Paramaribo   \n",
       "3  LINESTRING (-55.13949 5.83163, -55.13934 5.831...  urban  Paramaribo   \n",
       "4  LINESTRING (-55.12335 5.83721, -55.12329 5.837...  urban  Paramaribo   \n",
       "\n",
       "        length  \n",
       "0  1192.469808  \n",
       "1  1349.186168  \n",
       "2  1517.271849  \n",
       "3  1906.095615  \n",
       "4  1543.048599  "
      ]
     },
     "execution_count": 28,
     "metadata": {},
     "output_type": "execute_result"
    }
   ],
   "source": [
    "merged_gdf['geometry'] = merged_gdf['geometry'].to_crs(crs=4326)\n",
    "merged_gdf.head()"
   ]
  },
  {
   "cell_type": "code",
   "execution_count": 29,
   "metadata": {},
   "outputs": [
    {
     "data": {
      "text/plain": [
       "228"
      ]
     },
     "execution_count": 29,
     "metadata": {},
     "output_type": "execute_result"
    }
   ],
   "source": [
    "merged_gdf.shape[0]"
   ]
  },
  {
   "cell_type": "code",
   "execution_count": 30,
   "metadata": {},
   "outputs": [],
   "source": [
    "merged_gdf.to_csv(\"\")"
   ]
  },
  {
   "cell_type": "code",
   "execution_count": 31,
   "metadata": {},
   "outputs": [],
   "source": [
    "merged_gdf.to_file(\"\")"
   ]
  },
  {
   "cell_type": "code",
   "execution_count": null,
   "metadata": {},
   "outputs": [],
   "source": []
  }
 ],
 "metadata": {
  "kernelspec": {
   "display_name": "Python 3 (ipykernel)",
   "language": "python",
   "name": "python3"
  },
  "language_info": {
   "codemirror_mode": {
    "name": "ipython",
    "version": 3
   },
   "file_extension": ".py",
   "mimetype": "text/x-python",
   "name": "python",
   "nbconvert_exporter": "python",
   "pygments_lexer": "ipython3",
   "version": "3.8.13"
  }
 },
 "nbformat": 4,
 "nbformat_minor": 2
}
