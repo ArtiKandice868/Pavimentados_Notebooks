{
 "cells": [
  {
   "cell_type": "code",
   "execution_count": 1,
   "id": "15be2f3d",
   "metadata": {
    "scrolled": true
   },
   "outputs": [],
   "source": [
    "import warnings\n",
    "warnings.filterwarnings(\"ignore\")"
   ]
  },
  {
   "cell_type": "code",
   "execution_count": 2,
   "id": "beedebcf",
   "metadata": {},
   "outputs": [],
   "source": [
    "from pavimentados.processing.processors import MultiImage_Processor\n",
    "from pavimentados.processing.workflows import Workflow_Processor\n",
    "import numpy as np\n",
    "from pathlib import Path\n",
    "from tqdm.autonotebook import tqdm\n",
    "import os\n",
    "import pandas as pd\n",
    "import inspect\n",
    "import cv2\n",
    "import xlsxwriter\n",
    "import datetime as dt\n",
    "from PIL import Image, ExifTags"
   ]
  },
  {
   "cell_type": "code",
   "execution_count": 3,
   "id": "4c8478a5",
   "metadata": {},
   "outputs": [],
   "source": [
    "def dfs_tabs(df_list, sheet_list, file_name):\n",
    "    writer = pd.ExcelWriter(file_name,engine='xlsxwriter')   \n",
    "    for dataframe, sheet in zip(df_list, sheet_list):\n",
    "        dataframe.to_excel(writer, sheet_name=sheet, startrow=0 , startcol=0)   \n",
    "    writer.save()"
   ]
  },
  {
   "cell_type": "code",
   "execution_count": 4,
   "id": "4e979a49",
   "metadata": {},
   "outputs": [
    {
     "name": "stderr",
     "output_type": "stream",
     "text": [
      "100%|██████████████████████████████████████████| 16/16 [00:00<00:00, 49.20it/s]\n",
      "100%|███████████████████████████████████████| 317/317 [00:02<00:00, 111.78it/s]\n"
     ]
    },
    {
     "name": "stdout",
     "output_type": "stream",
     "text": [
      "Createing siamese model\n",
      "Loading Weights siamese\n",
      "Siamese model first loaded\n",
      "1/1 [==============================] - 1s 543ms/step\n",
      "1/1 [==============================] - 0s 136ms/step\n",
      "1/1 [==============================] - 0s 144ms/step\n",
      "1/1 [==============================] - 0s 154ms/step\n",
      "10/10 [==============================] - 3s 307ms/step\n",
      "10/10 [==============================] - 3s 288ms/step\n",
      "WARNING:tensorflow:Error in loading the saved optimizer state. As a result, your model is starting with a freshly initialized optimizer.\n"
     ]
    }
   ],
   "source": [
    "ml_processor = MultiImage_Processor(assign_devices = True, gpu_enabled = False)"
   ]
  },
  {
   "cell_type": "code",
   "execution_count": 5,
   "id": "05587388",
   "metadata": {},
   "outputs": [
    {
     "name": "stdout",
     "output_type": "stream",
     "text": [
      "s3\n"
     ]
    }
   ],
   "source": [
    "route = Path('')\n",
    "print(route)"
   ]
  },
  {
   "cell_type": "code",
   "execution_count": 6,
   "id": "e0f4ad51",
   "metadata": {},
   "outputs": [
    {
     "name": "stderr",
     "output_type": "stream",
     "text": [
      "78it [00:00, 100.47it/s]\n"
     ]
    }
   ],
   "source": [
    "workflow = Workflow_Processor(route, image_source_type='image_folder', gps_source_type = 'image_folder')"
   ]
  },
  {
   "cell_type": "code",
   "execution_count": 7,
   "id": "4f87265b",
   "metadata": {},
   "outputs": [
    {
     "data": {
      "application/vnd.jupyter.widget-view+json": {
       "model_id": "29857a622d204bd494236e9a513b850b",
       "version_major": 2,
       "version_minor": 0
      },
      "text/plain": [
       "  0%|          | 0/10 [00:00<?, ?it/s]"
      ]
     },
     "metadata": {},
     "output_type": "display_data"
    },
    {
     "name": "stdout",
     "output_type": "stream",
     "text": [
      "1/1 [==============================] - 15s 15s/step\n",
      "1/1 [==============================] - 11s 11s/step\n",
      "1/1 [==============================] - 1s 661ms/step\n",
      "1/1 [==============================] - 1s 615ms/step\n",
      "1/1 [==============================] - 11s 11s/step\n",
      "1/1 [==============================] - 12s 12s/step\n",
      "1/1 [==============================] - 11s 11s/step\n",
      "1/1 [==============================] - 11s 11s/step\n",
      "1/1 [==============================] - 0s 63ms/step\n",
      "1/1 [==============================] - 0s 356ms/step\n",
      "1/1 [==============================] - 11s 11s/step\n",
      "1/1 [==============================] - 0s 91ms/step\n",
      "1/1 [==============================] - 0s 398ms/step\n",
      "1/1 [==============================] - 0s 69ms/step\n",
      "1/1 [==============================] - 1s 669ms/step\n",
      "1/1 [==============================] - 11s 11s/step\n",
      "1/1 [==============================] - 0s 77ms/step\n",
      "1/1 [==============================] - 0s 380ms/step\n",
      "1/1 [==============================] - 0s 108ms/step\n",
      "1/1 [==============================] - 0s 418ms/step\n",
      "1/1 [==============================] - 12s 12s/step\n",
      "1/1 [==============================] - 8s 8s/step\n"
     ]
    }
   ],
   "source": [
    "\n",
    "results = workflow.execute(ml_processor)"
   ]
  },
  {
   "cell_type": "code",
   "execution_count": 8,
   "id": "b2d70f34",
   "metadata": {},
   "outputs": [
    {
     "data": {
      "text/plain": [
       "dict_keys(['table_summary_sections', 'data_resulting', 'data_resulting_fails', 'signals_summary', 'raw_results'])"
      ]
     },
     "execution_count": 8,
     "metadata": {},
     "output_type": "execute_result"
    }
   ],
   "source": [
    "results.keys()"
   ]
  },
  {
   "cell_type": "code",
   "execution_count": 9,
   "id": "b256101d",
   "metadata": {},
   "outputs": [],
   "source": [
    "results1_df = pd.DataFrame.from_dict(results['table_summary_sections'])\n",
    "results2_df = pd.DataFrame.from_dict(results['data_resulting'])\n",
    "results3_df = pd.DataFrame.from_dict(results['data_resulting_fails'])\n",
    "results4_df = pd.DataFrame.from_dict(results['raw_results'])\n",
    "results5_df = pd.DataFrame.from_dict(results['signals_summary'])"
   ]
  },
  {
   "cell_type": "code",
   "execution_count": 10,
   "id": "cf0d1ba2",
   "metadata": {},
   "outputs": [],
   "source": [
    "dfs = [results1_df, results2_df, results3_df, results4_df, results5_df]\n",
    "sheets = ['table_summary_sections', 'data_resulting', 'data_resulting_fails', 'raw_results', 'signals_summary']"
   ]
  },
  {
   "cell_type": "code",
   "execution_count": 11,
   "id": "d11a84ac",
   "metadata": {},
   "outputs": [],
   "source": [
    "dfs_tabs(dfs, sheets, \"\")"
   ]
  },
  {
   "cell_type": "code",
   "execution_count": null,
   "id": "ad8749a6",
   "metadata": {},
   "outputs": [],
   "source": []
  },
  {
   "cell_type": "code",
   "execution_count": 121,
   "id": "934a4ad0",
   "metadata": {},
   "outputs": [],
   "source": [
    "#     def load_single_value(img_path):\n",
    "#         d = {}\n",
    "#         image = Image.open(img_path)\n",
    "#         exifdata = image._getexif()\n",
    "#         for tag_id in exifdata:\n",
    "#             tag = TAGS.get(tag_id, tag_id)\n",
    "#             data = exifdata.get(tag_id)\n",
    "#             try:\n",
    "#                 if isinstance(data, bytes):\n",
    "#                     data = data.decode()\n",
    "#                 d[tag] = data\n",
    "#             except:\n",
    "#                 pass\n",
    "#         if 'GPSInfo' in d:\n",
    "#             gps_info = d['GPSInfo']\n",
    "#             latitude = gps_info.get(2)\n",
    "#             longitude = gps_info.get(4)\n",
    "#             latitude2 = (latitude[0] + latitude[1] / 60.0 + latitude[2] / 3600.0) * (-1 if gps_info.get(1) == 'S' else 1)\n",
    "#             longitude2 = (longitude[0] + longitude[1] / 60.0 + longitude[2] / 3600.0) * (-1 if gps_info.get(3) == 'W' else 1)\n",
    "#             time = dt.datetime.strptime(d['DateTime'], '%Y:%m:%d %H:%M:%S')\n",
    "#             print(latitude)\n",
    "#             print(longitude)\n",
    "#             print(latitude2)\n",
    "#             print(longitude2)\n",
    "#             print(time)"
   ]
  },
  {
   "cell_type": "code",
   "execution_count": 122,
   "id": "5c24dec0",
   "metadata": {},
   "outputs": [
    {
     "name": "stdout",
     "output_type": "stream",
     "text": [
      "(5.0, 46.0, 47.65476)\n",
      "(55.0, 4.0, 16.9355999)\n",
      "5.7799040999999995\n",
      "-55.071370999972224\n",
      "2023-06-20 10:02:49\n"
     ]
    }
   ],
   "source": [
    "#load_single_value(route)"
   ]
  }
 ],
 "metadata": {
  "kernelspec": {
   "display_name": "Python 3 (ipykernel)",
   "language": "python",
   "name": "python3"
  },
  "language_info": {
   "codemirror_mode": {
    "name": "ipython",
    "version": 3
   },
   "file_extension": ".py",
   "mimetype": "text/x-python",
   "name": "python",
   "nbconvert_exporter": "python",
   "pygments_lexer": "ipython3",
   "version": "3.8.13"
  }
 },
 "nbformat": 4,
 "nbformat_minor": 5
}
