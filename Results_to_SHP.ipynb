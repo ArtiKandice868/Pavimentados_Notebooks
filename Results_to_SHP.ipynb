{
 "cells": [
  {
   "cell_type": "code",
   "execution_count": 2,
   "metadata": {},
   "outputs": [
    {
     "name": "stderr",
     "output_type": "stream",
     "text": [
      "C:\\Users\\artir\\Miniconda3\\envs\\geo_env\\lib\\site-packages\\geopandas\\_compat.py:112: UserWarning: The Shapely GEOS version (3.11.1-CAPI-1.17.1) is incompatible with the GEOS version PyGEOS was compiled with (3.10.3-CAPI-1.16.1). Conversions between both will be slow.\n",
      "  warnings.warn(\n"
     ]
    }
   ],
   "source": [
    "import geopandas as gpd\n",
    "import pandas as pd\n",
    "import pandas as pd\n",
    "from shapely.geometry import Point\n",
    "from shapely.ops import linemerge, Polygon\n",
    "from shapely.wkt import loads\n",
    "import matplotlib.pyplot as plt\n",
    "import plotly.express as px\n",
    "import math\n",
    "import ast"
   ]
  },
  {
   "cell_type": "code",
   "execution_count": 3,
   "metadata": {},
   "outputs": [],
   "source": [
    "pd.set_option('display.max_rows', None)"
   ]
  },
  {
   "cell_type": "code",
   "execution_count": 4,
   "metadata": {},
   "outputs": [],
   "source": [
    "#only process new results from Pavimentados\n",
    "df_old = pd.read_excel('', sheet_name = 'data_resulting' )\n",
    "df_new = pd.read_excel('', sheet_name = 'data_resulting' )"
   ]
  },
  {
   "cell_type": "code",
   "execution_count": 5,
   "metadata": {},
   "outputs": [
    {
     "name": "stdout",
     "output_type": "stream",
     "text": [
      "1517\n",
      "2353\n"
     ]
    }
   ],
   "source": [
    "print(df_old.shape[0])\n",
    "print(df_new.shape[0])"
   ]
  },
  {
   "cell_type": "code",
   "execution_count": 9,
   "metadata": {},
   "outputs": [],
   "source": [
    "defects_df = df_new[~df_new.apply(tuple, 1).isin(df_old.apply(tuple, 1))]"
   ]
  },
  {
   "cell_type": "code",
   "execution_count": 10,
   "metadata": {},
   "outputs": [
    {
     "name": "stdout",
     "output_type": "stream",
     "text": [
      "836\n"
     ]
    }
   ],
   "source": [
    "print(defects_df.shape[0])"
   ]
  },
  {
   "cell_type": "code",
   "execution_count": 13,
   "metadata": {},
   "outputs": [],
   "source": [
    "#defects_df['Video Name'].value_counts()"
   ]
  },
  {
   "cell_type": "code",
   "execution_count": 14,
   "metadata": {},
   "outputs": [
    {
     "data": {
      "text/plain": [
       "Index(['Unnamed: 0', 'latitude', 'longitude', 'distances', 'ind', 'frame',\n",
       "       'section', 'classes', 'ind2', 'scores', 'boxes', 'class_id', 'area',\n",
       "       'center', 'height', 'width', 'total_area', 'perc_area',\n",
       "       'fail_id_section', 'Video Name', 'fotograma', 'area_meters'],\n",
       "      dtype='object')"
      ]
     },
     "execution_count": 14,
     "metadata": {},
     "output_type": "execute_result"
    }
   ],
   "source": [
    "defects_df.columns"
   ]
  },
  {
   "cell_type": "code",
   "execution_count": 15,
   "metadata": {},
   "outputs": [],
   "source": [
    "# columns_to_extract = ['class_id', 'fail_id_section', 'start_latitude', 'start_longitude', 'distances', 'width', 'area',\n",
    "#        'boxes', 'Video Name']\n",
    "\n",
    "columns_to_extract = ['latitude', 'longitude', 'distances', 'ind', 'frame',\n",
    "       'section', 'classes', 'ind2', 'scores', 'boxes', 'class_id', 'area',\n",
    "       'center', 'height', 'width', 'total_area', 'perc_area',\n",
    "       'fail_id_section', 'Video Name']"
   ]
  },
  {
   "cell_type": "code",
   "execution_count": 16,
   "metadata": {},
   "outputs": [
    {
     "data": {
      "text/html": [
       "<div>\n",
       "<style scoped>\n",
       "    .dataframe tbody tr th:only-of-type {\n",
       "        vertical-align: middle;\n",
       "    }\n",
       "\n",
       "    .dataframe tbody tr th {\n",
       "        vertical-align: top;\n",
       "    }\n",
       "\n",
       "    .dataframe thead th {\n",
       "        text-align: right;\n",
       "    }\n",
       "</style>\n",
       "<table border=\"1\" class=\"dataframe\">\n",
       "  <thead>\n",
       "    <tr style=\"text-align: right;\">\n",
       "      <th></th>\n",
       "      <th>latitude</th>\n",
       "      <th>longitude</th>\n",
       "      <th>distances</th>\n",
       "      <th>ind</th>\n",
       "      <th>frame</th>\n",
       "      <th>section</th>\n",
       "      <th>classes</th>\n",
       "      <th>ind2</th>\n",
       "      <th>scores</th>\n",
       "      <th>boxes</th>\n",
       "      <th>class_id</th>\n",
       "      <th>area</th>\n",
       "      <th>center</th>\n",
       "      <th>height</th>\n",
       "      <th>width</th>\n",
       "      <th>total_area</th>\n",
       "      <th>perc_area</th>\n",
       "      <th>fail_id_section</th>\n",
       "      <th>Video Name</th>\n",
       "    </tr>\n",
       "  </thead>\n",
       "  <tbody>\n",
       "    <tr>\n",
       "      <th>1489</th>\n",
       "      <td>5.819276</td>\n",
       "      <td>-57.052785</td>\n",
       "      <td>0.016472</td>\n",
       "      <td>30</td>\n",
       "      <td>40.0</td>\n",
       "      <td>0</td>\n",
       "      <td>Desenfoque Linea Blanca</td>\n",
       "      <td>30</td>\n",
       "      <td>0.746718</td>\n",
       "      <td>[0.6428605318069458, 0.6380339860916138, 0.995...</td>\n",
       "      <td>Desenfoque Linea Blanca</td>\n",
       "      <td>506225.168254</td>\n",
       "      <td>(2214.464807510376, 1235.5913400650024)</td>\n",
       "      <td>535.338974</td>\n",
       "      <td>945.616129</td>\n",
       "      <td>4110080</td>\n",
       "      <td>0.123167</td>\n",
       "      <td>0</td>\n",
       "      <td>Suriname\\Results\\GX011381 (2)</td>\n",
       "    </tr>\n",
       "    <tr>\n",
       "      <th>1490</th>\n",
       "      <td>5.819275</td>\n",
       "      <td>-57.052785</td>\n",
       "      <td>0.016472</td>\n",
       "      <td>32</td>\n",
       "      <td>49.0</td>\n",
       "      <td>0</td>\n",
       "      <td>Desenfoque Linea Blanca</td>\n",
       "      <td>33</td>\n",
       "      <td>0.790074</td>\n",
       "      <td>[0.5988683104515076, 0.47626709938049316, 0.74...</td>\n",
       "      <td>Desenfoque Linea Blanca</td>\n",
       "      <td>144596.623182</td>\n",
       "      <td>(1818.2841863632202, 905.6309223175049)</td>\n",
       "      <td>223.665161</td>\n",
       "      <td>646.487019</td>\n",
       "      <td>4110080</td>\n",
       "      <td>0.035181</td>\n",
       "      <td>1</td>\n",
       "      <td>Suriname\\Results\\GX011381 (2)</td>\n",
       "    </tr>\n",
       "    <tr>\n",
       "      <th>1491</th>\n",
       "      <td>5.819274</td>\n",
       "      <td>-57.052786</td>\n",
       "      <td>0.016472</td>\n",
       "      <td>35</td>\n",
       "      <td>57.0</td>\n",
       "      <td>0</td>\n",
       "      <td>Desenfoque Linea Blanca</td>\n",
       "      <td>36</td>\n",
       "      <td>0.713043</td>\n",
       "      <td>[0.5906733274459839, 0.4366545081138611, 0.736...</td>\n",
       "      <td>Desenfoque Linea Blanca</td>\n",
       "      <td>148150.800797</td>\n",
       "      <td>(1794.4756898880005, 851.4423561096191)</td>\n",
       "      <td>221.810961</td>\n",
       "      <td>667.914698</td>\n",
       "      <td>4110080</td>\n",
       "      <td>0.036046</td>\n",
       "      <td>1</td>\n",
       "      <td>Suriname\\Results\\GX011381 (2)</td>\n",
       "    </tr>\n",
       "    <tr>\n",
       "      <th>1492</th>\n",
       "      <td>5.817883</td>\n",
       "      <td>-57.053412</td>\n",
       "      <td>1.063324</td>\n",
       "      <td>41</td>\n",
       "      <td>92.0</td>\n",
       "      <td>2</td>\n",
       "      <td>Desenfoque Linea Blanca</td>\n",
       "      <td>42</td>\n",
       "      <td>0.903465</td>\n",
       "      <td>[0.7138018608093262, 0.6676969528198242, 0.870...</td>\n",
       "      <td>Desenfoque Linea Blanca</td>\n",
       "      <td>206479.900059</td>\n",
       "      <td>(2141.3703927993774, 1259.254093170166)</td>\n",
       "      <td>237.500181</td>\n",
       "      <td>869.388390</td>\n",
       "      <td>4110080</td>\n",
       "      <td>0.050237</td>\n",
       "      <td>4</td>\n",
       "      <td>Suriname\\Results\\GX011381 (2)</td>\n",
       "    </tr>\n",
       "    <tr>\n",
       "      <th>1493</th>\n",
       "      <td>5.816069</td>\n",
       "      <td>-57.054230</td>\n",
       "      <td>1.104771</td>\n",
       "      <td>45</td>\n",
       "      <td>112.0</td>\n",
       "      <td>4</td>\n",
       "      <td>Desenfoque Linea Blanca</td>\n",
       "      <td>46</td>\n",
       "      <td>0.704433</td>\n",
       "      <td>[0.603104293346405, 0.4417392611503601, 0.7538...</td>\n",
       "      <td>Desenfoque Linea Blanca</td>\n",
       "      <td>137530.202188</td>\n",
       "      <td>(1834.5605192184448, 840.1787185668945)</td>\n",
       "      <td>229.086609</td>\n",
       "      <td>600.341516</td>\n",
       "      <td>4110080</td>\n",
       "      <td>0.033462</td>\n",
       "      <td>7</td>\n",
       "      <td>Suriname\\Results\\GX011381 (2)</td>\n",
       "    </tr>\n",
       "  </tbody>\n",
       "</table>\n",
       "</div>"
      ],
      "text/plain": [
       "      latitude  longitude  distances  ind  frame  section  \\\n",
       "1489  5.819276 -57.052785   0.016472   30   40.0        0   \n",
       "1490  5.819275 -57.052785   0.016472   32   49.0        0   \n",
       "1491  5.819274 -57.052786   0.016472   35   57.0        0   \n",
       "1492  5.817883 -57.053412   1.063324   41   92.0        2   \n",
       "1493  5.816069 -57.054230   1.104771   45  112.0        4   \n",
       "\n",
       "                      classes  ind2    scores  \\\n",
       "1489  Desenfoque Linea Blanca    30  0.746718   \n",
       "1490  Desenfoque Linea Blanca    33  0.790074   \n",
       "1491  Desenfoque Linea Blanca    36  0.713043   \n",
       "1492  Desenfoque Linea Blanca    42  0.903465   \n",
       "1493  Desenfoque Linea Blanca    46  0.704433   \n",
       "\n",
       "                                                  boxes  \\\n",
       "1489  [0.6428605318069458, 0.6380339860916138, 0.995...   \n",
       "1490  [0.5988683104515076, 0.47626709938049316, 0.74...   \n",
       "1491  [0.5906733274459839, 0.4366545081138611, 0.736...   \n",
       "1492  [0.7138018608093262, 0.6676969528198242, 0.870...   \n",
       "1493  [0.603104293346405, 0.4417392611503601, 0.7538...   \n",
       "\n",
       "                     class_id           area  \\\n",
       "1489  Desenfoque Linea Blanca  506225.168254   \n",
       "1490  Desenfoque Linea Blanca  144596.623182   \n",
       "1491  Desenfoque Linea Blanca  148150.800797   \n",
       "1492  Desenfoque Linea Blanca  206479.900059   \n",
       "1493  Desenfoque Linea Blanca  137530.202188   \n",
       "\n",
       "                                       center      height       width  \\\n",
       "1489  (2214.464807510376, 1235.5913400650024)  535.338974  945.616129   \n",
       "1490  (1818.2841863632202, 905.6309223175049)  223.665161  646.487019   \n",
       "1491  (1794.4756898880005, 851.4423561096191)  221.810961  667.914698   \n",
       "1492  (2141.3703927993774, 1259.254093170166)  237.500181  869.388390   \n",
       "1493  (1834.5605192184448, 840.1787185668945)  229.086609  600.341516   \n",
       "\n",
       "      total_area  perc_area  fail_id_section                     Video Name  \n",
       "1489     4110080   0.123167                0  Suriname\\Results\\GX011381 (2)  \n",
       "1490     4110080   0.035181                1  Suriname\\Results\\GX011381 (2)  \n",
       "1491     4110080   0.036046                1  Suriname\\Results\\GX011381 (2)  \n",
       "1492     4110080   0.050237                4  Suriname\\Results\\GX011381 (2)  \n",
       "1493     4110080   0.033462                7  Suriname\\Results\\GX011381 (2)  "
      ]
     },
     "execution_count": 16,
     "metadata": {},
     "output_type": "execute_result"
    }
   ],
   "source": [
    "defects_df = defects_df[columns_to_extract]\n",
    "defects_df.head()"
   ]
  },
  {
   "cell_type": "code",
   "execution_count": 17,
   "metadata": {},
   "outputs": [],
   "source": [
    "defects_df['boxes'] = defects_df['boxes'].apply(ast.literal_eval)"
   ]
  },
  {
   "cell_type": "code",
   "execution_count": 18,
   "metadata": {},
   "outputs": [],
   "source": [
    "defects_df[['x_center', 'y_center', 'width_n', 'height_n']] = pd.DataFrame(defects_df['boxes'].to_list(), index=defects_df.index)"
   ]
  },
  {
   "cell_type": "code",
   "execution_count": 19,
   "metadata": {},
   "outputs": [],
   "source": [
    "distance_to_road = 0.75\n",
    "FOV_angle = 90 #linear\n",
    "\n",
    "def estimate_defect_size(df):\n",
    "    bbox_width = df['width'] #* 1920  # convert normalized values to pixels\n",
    "    bbox_height = df['height'] #* 1080  # convert normalized values to pixels\n",
    "\n",
    "    visible_road_length_meters = 2 * distance_to_road * math.tan(FOV_angle / 2) \n",
    "\n",
    "    # Calculate the scale factor (meters/pixel)\n",
    "    width_scale_factor = 6.8 / 1920\n",
    "    height_scale_factor = visible_road_length_meters/1080\n",
    "\n",
    "    # Convert the width and height from pixels to meters\n",
    "    defect_real_width = bbox_width * width_scale_factor\n",
    "    defect_real_height = bbox_height * height_scale_factor  # Assuming the image height corresponds to the road width\n",
    "\n",
    "    return pd.Series([defect_real_width, defect_real_height])"
   ]
  },
  {
   "cell_type": "code",
   "execution_count": 20,
   "metadata": {},
   "outputs": [],
   "source": [
    "defects_df[['defect_real_width', 'defect_real_height']] = defects_df.apply(estimate_defect_size, axis=1)"
   ]
  },
  {
   "cell_type": "code",
   "execution_count": 21,
   "metadata": {},
   "outputs": [],
   "source": [
    "defects_df['defect_area_m2'] = defects_df['defect_real_width'] * defects_df['defect_real_height']"
   ]
  },
  {
   "cell_type": "code",
   "execution_count": 23,
   "metadata": {},
   "outputs": [],
   "source": [
    "defects_gdf = gpd.GeoDataFrame(defects_df, geometry = gpd.points_from_xy(defects_df.longitude, defects_df.latitude))"
   ]
  },
  {
   "cell_type": "code",
   "execution_count": 25,
   "metadata": {},
   "outputs": [],
   "source": [
    "defects_gdf = defects_gdf.set_crs(crs=4326)"
   ]
  },
  {
   "cell_type": "code",
   "execution_count": 26,
   "metadata": {},
   "outputs": [
    {
     "data": {
      "text/plain": [
       "<Geographic 2D CRS: EPSG:4326>\n",
       "Name: WGS 84\n",
       "Axis Info [ellipsoidal]:\n",
       "- Lat[north]: Geodetic latitude (degree)\n",
       "- Lon[east]: Geodetic longitude (degree)\n",
       "Area of Use:\n",
       "- name: World.\n",
       "- bounds: (-180.0, -90.0, 180.0, 90.0)\n",
       "Datum: World Geodetic System 1984 ensemble\n",
       "- Ellipsoid: WGS 84\n",
       "- Prime Meridian: Greenwich"
      ]
     },
     "execution_count": 26,
     "metadata": {},
     "output_type": "execute_result"
    }
   ],
   "source": [
    "defects_gdf.crs"
   ]
  },
  {
   "cell_type": "code",
   "execution_count": 27,
   "metadata": {},
   "outputs": [
    {
     "data": {
      "text/plain": [
       "<AxesSubplot:>"
      ]
     },
     "execution_count": 27,
     "metadata": {},
     "output_type": "execute_result"
    },
    {
     "data": {
      "image/png": "[encoded data removed]",
      "text/plain": [
       "<Figure size 432x288 with 1 Axes>"
      ]
     },
     "metadata": {
      "needs_background": "light"
     },
     "output_type": "display_data"
    }
   ],
   "source": [
    "defects_gdf.plot()"
   ]
  },
  {
   "cell_type": "code",
   "execution_count": 28,
   "metadata": {},
   "outputs": [
    {
     "data": {
      "text/plain": [
       "Index(['latitude', 'longitude', 'distances', 'ind', 'frame', 'section',\n",
       "       'classes', 'ind2', 'scores', 'boxes', 'class_id', 'area', 'center',\n",
       "       'height', 'width', 'total_area', 'perc_area', 'fail_id_section',\n",
       "       'Video Name', 'x_center', 'y_center', 'width_n', 'height_n',\n",
       "       'defect_real_width', 'defect_real_height', 'defect_area_m2',\n",
       "       'geometry'],\n",
       "      dtype='object')"
      ]
     },
     "execution_count": 28,
     "metadata": {},
     "output_type": "execute_result"
    }
   ],
   "source": [
    "defects_gdf.columns"
   ]
  },
  {
   "cell_type": "code",
   "execution_count": 29,
   "metadata": {},
   "outputs": [],
   "source": [
    "columns_to_extract2 = ['latitude', 'longitude', 'distances', 'ind', 'frame', 'section',\n",
    "       'classes', 'ind2', 'scores', 'class_id', 'area', 'center',\n",
    "       'height', 'width', 'total_area', 'perc_area', 'fail_id_section',\n",
    "       'Video Name','defect_real_width', 'defect_real_height', 'defect_area_m2',\n",
    "       'geometry']"
   ]
  },
  {
   "cell_type": "code",
   "execution_count": 30,
   "metadata": {},
   "outputs": [
    {
     "data": {
      "text/html": [
       "<div>\n",
       "<style scoped>\n",
       "    .dataframe tbody tr th:only-of-type {\n",
       "        vertical-align: middle;\n",
       "    }\n",
       "\n",
       "    .dataframe tbody tr th {\n",
       "        vertical-align: top;\n",
       "    }\n",
       "\n",
       "    .dataframe thead th {\n",
       "        text-align: right;\n",
       "    }\n",
       "</style>\n",
       "<table border=\"1\" class=\"dataframe\">\n",
       "  <thead>\n",
       "    <tr style=\"text-align: right;\">\n",
       "      <th></th>\n",
       "      <th>latitude</th>\n",
       "      <th>longitude</th>\n",
       "      <th>distances</th>\n",
       "      <th>ind</th>\n",
       "      <th>frame</th>\n",
       "      <th>section</th>\n",
       "      <th>classes</th>\n",
       "      <th>ind2</th>\n",
       "      <th>scores</th>\n",
       "      <th>class_id</th>\n",
       "      <th>...</th>\n",
       "      <th>height</th>\n",
       "      <th>width</th>\n",
       "      <th>total_area</th>\n",
       "      <th>perc_area</th>\n",
       "      <th>fail_id_section</th>\n",
       "      <th>Video Name</th>\n",
       "      <th>defect_real_width</th>\n",
       "      <th>defect_real_height</th>\n",
       "      <th>defect_area_m2</th>\n",
       "      <th>geometry</th>\n",
       "    </tr>\n",
       "  </thead>\n",
       "  <tbody>\n",
       "    <tr>\n",
       "      <th>1489</th>\n",
       "      <td>5.819276</td>\n",
       "      <td>-57.052785</td>\n",
       "      <td>0.016472</td>\n",
       "      <td>30</td>\n",
       "      <td>40.0</td>\n",
       "      <td>0</td>\n",
       "      <td>Desenfoque Linea Blanca</td>\n",
       "      <td>30</td>\n",
       "      <td>0.746718</td>\n",
       "      <td>Desenfoque Linea Blanca</td>\n",
       "      <td>...</td>\n",
       "      <td>535.338974</td>\n",
       "      <td>945.616129</td>\n",
       "      <td>4110080</td>\n",
       "      <td>0.123167</td>\n",
       "      <td>0</td>\n",
       "      <td>Suriname\\Results\\GX011381 (2)</td>\n",
       "      <td>3.349057</td>\n",
       "      <td>1.204346</td>\n",
       "      <td>4.033422</td>\n",
       "      <td>POINT (-57.05278 5.81928)</td>\n",
       "    </tr>\n",
       "    <tr>\n",
       "      <th>1490</th>\n",
       "      <td>5.819275</td>\n",
       "      <td>-57.052785</td>\n",
       "      <td>0.016472</td>\n",
       "      <td>32</td>\n",
       "      <td>49.0</td>\n",
       "      <td>0</td>\n",
       "      <td>Desenfoque Linea Blanca</td>\n",
       "      <td>33</td>\n",
       "      <td>0.790074</td>\n",
       "      <td>Desenfoque Linea Blanca</td>\n",
       "      <td>...</td>\n",
       "      <td>223.665161</td>\n",
       "      <td>646.487019</td>\n",
       "      <td>4110080</td>\n",
       "      <td>0.035181</td>\n",
       "      <td>1</td>\n",
       "      <td>Suriname\\Results\\GX011381 (2)</td>\n",
       "      <td>2.289642</td>\n",
       "      <td>0.503177</td>\n",
       "      <td>1.152094</td>\n",
       "      <td>POINT (-57.05279 5.81928)</td>\n",
       "    </tr>\n",
       "    <tr>\n",
       "      <th>1491</th>\n",
       "      <td>5.819274</td>\n",
       "      <td>-57.052786</td>\n",
       "      <td>0.016472</td>\n",
       "      <td>35</td>\n",
       "      <td>57.0</td>\n",
       "      <td>0</td>\n",
       "      <td>Desenfoque Linea Blanca</td>\n",
       "      <td>36</td>\n",
       "      <td>0.713043</td>\n",
       "      <td>Desenfoque Linea Blanca</td>\n",
       "      <td>...</td>\n",
       "      <td>221.810961</td>\n",
       "      <td>667.914698</td>\n",
       "      <td>4110080</td>\n",
       "      <td>0.036046</td>\n",
       "      <td>1</td>\n",
       "      <td>Suriname\\Results\\GX011381 (2)</td>\n",
       "      <td>2.365531</td>\n",
       "      <td>0.499005</td>\n",
       "      <td>1.180413</td>\n",
       "      <td>POINT (-57.05279 5.81927)</td>\n",
       "    </tr>\n",
       "    <tr>\n",
       "      <th>1492</th>\n",
       "      <td>5.817883</td>\n",
       "      <td>-57.053412</td>\n",
       "      <td>1.063324</td>\n",
       "      <td>41</td>\n",
       "      <td>92.0</td>\n",
       "      <td>2</td>\n",
       "      <td>Desenfoque Linea Blanca</td>\n",
       "      <td>42</td>\n",
       "      <td>0.903465</td>\n",
       "      <td>Desenfoque Linea Blanca</td>\n",
       "      <td>...</td>\n",
       "      <td>237.500181</td>\n",
       "      <td>869.388390</td>\n",
       "      <td>4110080</td>\n",
       "      <td>0.050237</td>\n",
       "      <td>4</td>\n",
       "      <td>Suriname\\Results\\GX011381 (2)</td>\n",
       "      <td>3.079084</td>\n",
       "      <td>0.534301</td>\n",
       "      <td>1.645158</td>\n",
       "      <td>POINT (-57.05341 5.81788)</td>\n",
       "    </tr>\n",
       "    <tr>\n",
       "      <th>1493</th>\n",
       "      <td>5.816069</td>\n",
       "      <td>-57.054230</td>\n",
       "      <td>1.104771</td>\n",
       "      <td>45</td>\n",
       "      <td>112.0</td>\n",
       "      <td>4</td>\n",
       "      <td>Desenfoque Linea Blanca</td>\n",
       "      <td>46</td>\n",
       "      <td>0.704433</td>\n",
       "      <td>Desenfoque Linea Blanca</td>\n",
       "      <td>...</td>\n",
       "      <td>229.086609</td>\n",
       "      <td>600.341516</td>\n",
       "      <td>4110080</td>\n",
       "      <td>0.033462</td>\n",
       "      <td>7</td>\n",
       "      <td>Suriname\\Results\\GX011381 (2)</td>\n",
       "      <td>2.126210</td>\n",
       "      <td>0.515373</td>\n",
       "      <td>1.095792</td>\n",
       "      <td>POINT (-57.05423 5.81607)</td>\n",
       "    </tr>\n",
       "  </tbody>\n",
       "</table>\n",
       "<p>5 rows × 22 columns</p>\n",
       "</div>"
      ],
      "text/plain": [
       "      latitude  longitude  distances  ind  frame  section  \\\n",
       "1489  5.819276 -57.052785   0.016472   30   40.0        0   \n",
       "1490  5.819275 -57.052785   0.016472   32   49.0        0   \n",
       "1491  5.819274 -57.052786   0.016472   35   57.0        0   \n",
       "1492  5.817883 -57.053412   1.063324   41   92.0        2   \n",
       "1493  5.816069 -57.054230   1.104771   45  112.0        4   \n",
       "\n",
       "                      classes  ind2    scores                 class_id  ...  \\\n",
       "1489  Desenfoque Linea Blanca    30  0.746718  Desenfoque Linea Blanca  ...   \n",
       "1490  Desenfoque Linea Blanca    33  0.790074  Desenfoque Linea Blanca  ...   \n",
       "1491  Desenfoque Linea Blanca    36  0.713043  Desenfoque Linea Blanca  ...   \n",
       "1492  Desenfoque Linea Blanca    42  0.903465  Desenfoque Linea Blanca  ...   \n",
       "1493  Desenfoque Linea Blanca    46  0.704433  Desenfoque Linea Blanca  ...   \n",
       "\n",
       "          height       width  total_area  perc_area  fail_id_section  \\\n",
       "1489  535.338974  945.616129     4110080   0.123167                0   \n",
       "1490  223.665161  646.487019     4110080   0.035181                1   \n",
       "1491  221.810961  667.914698     4110080   0.036046                1   \n",
       "1492  237.500181  869.388390     4110080   0.050237                4   \n",
       "1493  229.086609  600.341516     4110080   0.033462                7   \n",
       "\n",
       "                         Video Name  defect_real_width defect_real_height  \\\n",
       "1489  Suriname\\Results\\GX011381 (2)           3.349057           1.204346   \n",
       "1490  Suriname\\Results\\GX011381 (2)           2.289642           0.503177   \n",
       "1491  Suriname\\Results\\GX011381 (2)           2.365531           0.499005   \n",
       "1492  Suriname\\Results\\GX011381 (2)           3.079084           0.534301   \n",
       "1493  Suriname\\Results\\GX011381 (2)           2.126210           0.515373   \n",
       "\n",
       "      defect_area_m2                   geometry  \n",
       "1489        4.033422  POINT (-57.05278 5.81928)  \n",
       "1490        1.152094  POINT (-57.05279 5.81928)  \n",
       "1491        1.180413  POINT (-57.05279 5.81927)  \n",
       "1492        1.645158  POINT (-57.05341 5.81788)  \n",
       "1493        1.095792  POINT (-57.05423 5.81607)  \n",
       "\n",
       "[5 rows x 22 columns]"
      ]
     },
     "execution_count": 30,
     "metadata": {},
     "output_type": "execute_result"
    }
   ],
   "source": [
    "defects_gdf = defects_gdf[columns_to_extract2]\n",
    "defects_gdf.head()"
   ]
  },
  {
   "cell_type": "code",
   "execution_count": 31,
   "metadata": {},
   "outputs": [
    {
     "name": "stderr",
     "output_type": "stream",
     "text": [
      "C:\\Users\\artir\\AppData\\Local\\Temp\\ipykernel_12224\\2853397450.py:1: UserWarning: Column names longer than 10 characters will be truncated when saved to ESRI Shapefile.\n",
      "  defects_gdf.to_file(\"SectionID_SHP/Defects_NewProcessed/Pav_Failure_New.shp\")\n"
     ]
    }
   ],
   "source": [
    "defects_gdf.to_file(\"\")"
   ]
  },
  {
   "cell_type": "code",
   "execution_count": null,
   "metadata": {},
   "outputs": [],
   "source": []
  }
 ],
 "metadata": {
  "kernelspec": {
   "display_name": "Python 3 (ipykernel)",
   "language": "python",
   "name": "python3"
  },
  "language_info": {
   "codemirror_mode": {
    "name": "ipython",
    "version": 3
   },
   "file_extension": ".py",
   "mimetype": "text/x-python",
   "name": "python",
   "nbconvert_exporter": "python",
   "pygments_lexer": "ipython3",
   "version": "3.8.13"
  }
 },
 "nbformat": 4,
 "nbformat_minor": 2
}
